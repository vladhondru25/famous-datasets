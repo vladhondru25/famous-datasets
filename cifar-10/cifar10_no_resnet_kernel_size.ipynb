{
  "nbformat": 4,
  "nbformat_minor": 0,
  "metadata": {
    "accelerator": "GPU",
    "colab": {
      "name": "cifar10_no_resnet_kernel_size.ipynb",
      "provenance": [],
      "collapsed_sections": []
    },
    "kernelspec": {
      "display_name": "Python 3",
      "language": "python",
      "name": "python3"
    },
    "language_info": {
      "codemirror_mode": {
        "name": "ipython",
        "version": 3
      },
      "file_extension": ".py",
      "mimetype": "text/x-python",
      "name": "python",
      "nbconvert_exporter": "python",
      "pygments_lexer": "ipython3",
      "version": "3.7.9"
    },
    "widgets": {
      "application/vnd.jupyter.widget-state+json": {
        "05b3a5f65dac4405aa434bca9bdcae2a": {
          "model_module": "@jupyter-widgets/controls",
          "model_name": "HBoxModel",
          "state": {
            "_view_name": "HBoxView",
            "_dom_classes": [],
            "_model_name": "HBoxModel",
            "_view_module": "@jupyter-widgets/controls",
            "_model_module_version": "1.5.0",
            "_view_count": null,
            "_view_module_version": "1.5.0",
            "box_style": "",
            "layout": "IPY_MODEL_07c8fba27ab5452894d8435795b40b00",
            "_model_module": "@jupyter-widgets/controls",
            "children": [
              "IPY_MODEL_d977f76c0a284500a0fc97e5f7b5ea2d",
              "IPY_MODEL_6007b5d542dc49a3b552a75f3ff7c2ba"
            ]
          }
        },
        "07c8fba27ab5452894d8435795b40b00": {
          "model_module": "@jupyter-widgets/base",
          "model_name": "LayoutModel",
          "state": {
            "_view_name": "LayoutView",
            "grid_template_rows": null,
            "right": null,
            "justify_content": null,
            "_view_module": "@jupyter-widgets/base",
            "overflow": null,
            "_model_module_version": "1.2.0",
            "_view_count": null,
            "flex_flow": null,
            "width": null,
            "min_width": null,
            "border": null,
            "align_items": null,
            "bottom": null,
            "_model_module": "@jupyter-widgets/base",
            "top": null,
            "grid_column": null,
            "overflow_y": null,
            "overflow_x": null,
            "grid_auto_flow": null,
            "grid_area": null,
            "grid_template_columns": null,
            "flex": null,
            "_model_name": "LayoutModel",
            "justify_items": null,
            "grid_row": null,
            "max_height": null,
            "align_content": null,
            "visibility": null,
            "align_self": null,
            "height": null,
            "min_height": null,
            "padding": null,
            "grid_auto_rows": null,
            "grid_gap": null,
            "max_width": null,
            "order": null,
            "_view_module_version": "1.2.0",
            "grid_template_areas": null,
            "object_position": null,
            "object_fit": null,
            "grid_auto_columns": null,
            "margin": null,
            "display": null,
            "left": null
          }
        },
        "d977f76c0a284500a0fc97e5f7b5ea2d": {
          "model_module": "@jupyter-widgets/controls",
          "model_name": "FloatProgressModel",
          "state": {
            "_view_name": "ProgressView",
            "style": "IPY_MODEL_a94836ac6661458a8e7f5d06d6e48beb",
            "_dom_classes": [],
            "description": "",
            "_model_name": "FloatProgressModel",
            "bar_style": "info",
            "max": 1,
            "_view_module": "@jupyter-widgets/controls",
            "_model_module_version": "1.5.0",
            "value": 1,
            "_view_count": null,
            "_view_module_version": "1.5.0",
            "orientation": "horizontal",
            "min": 0,
            "description_tooltip": null,
            "_model_module": "@jupyter-widgets/controls",
            "layout": "IPY_MODEL_ada69d04a2e34a27bfd56ce2534afefa"
          }
        },
        "6007b5d542dc49a3b552a75f3ff7c2ba": {
          "model_module": "@jupyter-widgets/controls",
          "model_name": "HTMLModel",
          "state": {
            "_view_name": "HTMLView",
            "style": "IPY_MODEL_ba5523592c3c4a6599a6abc988ce0eb2",
            "_dom_classes": [],
            "description": "",
            "_model_name": "HTMLModel",
            "placeholder": "​",
            "_view_module": "@jupyter-widgets/controls",
            "_model_module_version": "1.5.0",
            "value": " 170500096/? [00:20&lt;00:00, 30647251.91it/s]",
            "_view_count": null,
            "_view_module_version": "1.5.0",
            "description_tooltip": null,
            "_model_module": "@jupyter-widgets/controls",
            "layout": "IPY_MODEL_b92665eb9bd4452294ae8f2cd956be80"
          }
        },
        "a94836ac6661458a8e7f5d06d6e48beb": {
          "model_module": "@jupyter-widgets/controls",
          "model_name": "ProgressStyleModel",
          "state": {
            "_view_name": "StyleView",
            "_model_name": "ProgressStyleModel",
            "description_width": "initial",
            "_view_module": "@jupyter-widgets/base",
            "_model_module_version": "1.5.0",
            "_view_count": null,
            "_view_module_version": "1.2.0",
            "bar_color": null,
            "_model_module": "@jupyter-widgets/controls"
          }
        },
        "ada69d04a2e34a27bfd56ce2534afefa": {
          "model_module": "@jupyter-widgets/base",
          "model_name": "LayoutModel",
          "state": {
            "_view_name": "LayoutView",
            "grid_template_rows": null,
            "right": null,
            "justify_content": null,
            "_view_module": "@jupyter-widgets/base",
            "overflow": null,
            "_model_module_version": "1.2.0",
            "_view_count": null,
            "flex_flow": null,
            "width": null,
            "min_width": null,
            "border": null,
            "align_items": null,
            "bottom": null,
            "_model_module": "@jupyter-widgets/base",
            "top": null,
            "grid_column": null,
            "overflow_y": null,
            "overflow_x": null,
            "grid_auto_flow": null,
            "grid_area": null,
            "grid_template_columns": null,
            "flex": null,
            "_model_name": "LayoutModel",
            "justify_items": null,
            "grid_row": null,
            "max_height": null,
            "align_content": null,
            "visibility": null,
            "align_self": null,
            "height": null,
            "min_height": null,
            "padding": null,
            "grid_auto_rows": null,
            "grid_gap": null,
            "max_width": null,
            "order": null,
            "_view_module_version": "1.2.0",
            "grid_template_areas": null,
            "object_position": null,
            "object_fit": null,
            "grid_auto_columns": null,
            "margin": null,
            "display": null,
            "left": null
          }
        },
        "ba5523592c3c4a6599a6abc988ce0eb2": {
          "model_module": "@jupyter-widgets/controls",
          "model_name": "DescriptionStyleModel",
          "state": {
            "_view_name": "StyleView",
            "_model_name": "DescriptionStyleModel",
            "description_width": "",
            "_view_module": "@jupyter-widgets/base",
            "_model_module_version": "1.5.0",
            "_view_count": null,
            "_view_module_version": "1.2.0",
            "_model_module": "@jupyter-widgets/controls"
          }
        },
        "b92665eb9bd4452294ae8f2cd956be80": {
          "model_module": "@jupyter-widgets/base",
          "model_name": "LayoutModel",
          "state": {
            "_view_name": "LayoutView",
            "grid_template_rows": null,
            "right": null,
            "justify_content": null,
            "_view_module": "@jupyter-widgets/base",
            "overflow": null,
            "_model_module_version": "1.2.0",
            "_view_count": null,
            "flex_flow": null,
            "width": null,
            "min_width": null,
            "border": null,
            "align_items": null,
            "bottom": null,
            "_model_module": "@jupyter-widgets/base",
            "top": null,
            "grid_column": null,
            "overflow_y": null,
            "overflow_x": null,
            "grid_auto_flow": null,
            "grid_area": null,
            "grid_template_columns": null,
            "flex": null,
            "_model_name": "LayoutModel",
            "justify_items": null,
            "grid_row": null,
            "max_height": null,
            "align_content": null,
            "visibility": null,
            "align_self": null,
            "height": null,
            "min_height": null,
            "padding": null,
            "grid_auto_rows": null,
            "grid_gap": null,
            "max_width": null,
            "order": null,
            "_view_module_version": "1.2.0",
            "grid_template_areas": null,
            "object_position": null,
            "object_fit": null,
            "grid_auto_columns": null,
            "margin": null,
            "display": null,
            "left": null
          }
        }
      }
    }
  },
  "cells": [
    {
      "cell_type": "code",
      "metadata": {
        "id": "nIRsffnlE4c0"
      },
      "source": [
        "import torch\n",
        "import torch.nn as nn\n",
        "import torchvision.datasets\n",
        "import torch.optim as optim\n",
        "import torch.nn.functional as F\n",
        "import torchvision.transforms as T\n",
        "from torch.utils.data import SubsetRandomSampler, DataLoader\n",
        "import numpy as np\n",
        "import matplotlib.pyplot as plt"
      ],
      "execution_count": 1,
      "outputs": []
    },
    {
      "cell_type": "code",
      "metadata": {
        "id": "NR5SKbaoE4c3",
        "outputId": "c06b6a1f-f96c-4e60-aa90-e0b355cd5d99",
        "colab": {
          "base_uri": "https://localhost:8080/",
          "height": 34
        }
      },
      "source": [
        "# Hyperparameters and constants\n",
        "BATCH_SIZE = 64\n",
        "NUM_TRAIN = 49000\n",
        "EPOCHS = 10\n",
        "\n",
        "PRINT_EVERY = 100\n",
        "\n",
        "SAVE_MODEL = False\n",
        "\n",
        "R_MEAN = 0.4914\n",
        "G_MEAN = 0.4822\n",
        "B_MEAN = 0.4465\n",
        "R_STD = 0.2023\n",
        "G_STD = 0.1994\n",
        "B_STD = 0.2010\n",
        "\n",
        "# Use GPU if available\n",
        "device = torch.device('cpu')\n",
        "if torch.cuda.is_available():\n",
        "    device = torch.device('cuda')\n",
        "print(device)"
      ],
      "execution_count": 2,
      "outputs": [
        {
          "output_type": "stream",
          "text": [
            "cuda\n"
          ],
          "name": "stdout"
        }
      ]
    },
    {
      "cell_type": "code",
      "metadata": {
        "id": "pwbpOtdcF4_w"
      },
      "source": [
        "# Set random seed for replicating testing results\n",
        "np.random.seed(0)\n",
        "torch.manual_seed(0)\n",
        "if torch.cuda.is_available():\n",
        "    torch.cuda.manual_seed(0)"
      ],
      "execution_count": 3,
      "outputs": []
    },
    {
      "cell_type": "code",
      "metadata": {
        "id": "r3Lwdw_OE4c6"
      },
      "source": [
        "# Normalise the dataset\n",
        "transform = T.Compose([\n",
        "                T.ToTensor(),\n",
        "                T.Normalize((R_MEAN, G_MEAN, B_MEAN), (R_STD, G_STD, B_STD))\n",
        "            ])\n",
        "# Augement and normalise the dataset\n",
        "transform_aug = T.Compose([\n",
        "                  T.RandomCrop(32, padding=4),\n",
        "                  T.RandomHorizontalFlip(p=0.5),\n",
        "                  T.ToTensor(),\n",
        "                  T.Normalize((R_MEAN, G_MEAN, B_MEAN), (R_STD, G_STD, B_STD))\n",
        "                ])"
      ],
      "execution_count": 4,
      "outputs": []
    },
    {
      "cell_type": "code",
      "metadata": {
        "id": "PGVSNIkHE4c9",
        "outputId": "913d1bbb-498d-46de-c6ca-f120568b9bb1",
        "colab": {
          "base_uri": "https://localhost:8080/",
          "height": 117,
          "referenced_widgets": [
            "05b3a5f65dac4405aa434bca9bdcae2a",
            "07c8fba27ab5452894d8435795b40b00",
            "d977f76c0a284500a0fc97e5f7b5ea2d",
            "6007b5d542dc49a3b552a75f3ff7c2ba",
            "a94836ac6661458a8e7f5d06d6e48beb",
            "ada69d04a2e34a27bfd56ce2534afefa",
            "ba5523592c3c4a6599a6abc988ce0eb2",
            "b92665eb9bd4452294ae8f2cd956be80"
          ]
        }
      },
      "source": [
        "# Load CIFAR10\n",
        "training_dataset   = torchvision.datasets.CIFAR10('data/', train=True,  transform=transform_aug, download=True)\n",
        "validation_dataset = torchvision.datasets.CIFAR10('data/', train=True,  transform=transform, download=True)\n",
        "testing_dataset    = torchvision.datasets.CIFAR10('data/', train=False, transform=transform, download=True)\n",
        "\n",
        "\n",
        "# Create dataloaders\n",
        "training_data   = DataLoader(training_dataset,   batch_size=BATCH_SIZE, shuffle=False, sampler=SubsetRandomSampler(range(NUM_TRAIN)))\n",
        "validation_data = DataLoader(validation_dataset, batch_size=BATCH_SIZE, shuffle=False, sampler=SubsetRandomSampler(range(NUM_TRAIN,50000)))\n",
        "testing_data    = DataLoader(testing_dataset,    batch_size=BATCH_SIZE, shuffle=False)"
      ],
      "execution_count": 5,
      "outputs": [
        {
          "output_type": "stream",
          "text": [
            "Downloading https://www.cs.toronto.edu/~kriz/cifar-10-python.tar.gz to data/cifar-10-python.tar.gz\n"
          ],
          "name": "stdout"
        },
        {
          "output_type": "display_data",
          "data": {
            "application/vnd.jupyter.widget-view+json": {
              "model_id": "05b3a5f65dac4405aa434bca9bdcae2a",
              "version_minor": 0,
              "version_major": 2
            },
            "text/plain": [
              "HBox(children=(FloatProgress(value=1.0, bar_style='info', max=1.0), HTML(value='')))"
            ]
          },
          "metadata": {
            "tags": []
          }
        },
        {
          "output_type": "stream",
          "text": [
            "Extracting data/cifar-10-python.tar.gz to data/\n",
            "Files already downloaded and verified\n",
            "Files already downloaded and verified\n"
          ],
          "name": "stdout"
        }
      ]
    },
    {
      "cell_type": "code",
      "metadata": {
        "id": "NDc1Z0ydE4dA"
      },
      "source": [
        "class MyModel3(nn.Module):\n",
        "    def __init__(self, no_classes=10):\n",
        "        super(MyModel3, self).__init__()\n",
        "        \n",
        "        self.network = nn.Sequential(\n",
        "                        nn.Conv2d(3,    32, kernel_size=3, stride=1, padding=1),\n",
        "                        nn.BatchNorm2d(32),\n",
        "                        nn.ReLU(inplace=True),\n",
        "            \n",
        "                        nn.Conv2d(32,   32, kernel_size=3, stride=1, padding=1),\n",
        "                        nn.BatchNorm2d(32),\n",
        "                        nn.ReLU(inplace=True),\n",
        "            \n",
        "                        nn.Conv2d(32,  64, kernel_size=3, stride=2, padding=1),\n",
        "                        nn.BatchNorm2d(64),\n",
        "                        nn.ReLU(inplace=True),\n",
        "            \n",
        "                        nn.Conv2d(64, 128, kernel_size=3, stride=2, padding=1),\n",
        "                        nn.BatchNorm2d(128),\n",
        "                        nn.ReLU(inplace=True),\n",
        "            \n",
        "                        nn.Conv2d(128, 256, kernel_size=3, stride=2, padding=1),\n",
        "                        nn.BatchNorm2d(256),\n",
        "                        nn.ReLU(inplace=True),\n",
        "            \n",
        "                        nn.AvgPool2d(kernel_size=4),\n",
        "            \n",
        "                        nn.Flatten(),\n",
        "                        nn.Linear(in_features=256, out_features=no_classes, bias=True)\n",
        "                       )\n",
        "        \n",
        "    def forward(self, x):\n",
        "        return self.network(x)"
      ],
      "execution_count": 6,
      "outputs": []
    },
    {
      "cell_type": "code",
      "metadata": {
        "id": "yw8Lb-k-F4_5"
      },
      "source": [
        "class MyModel5(nn.Module):\n",
        "    def __init__(self, no_classes=10):\n",
        "        super(MyModel5, self).__init__()\n",
        "        \n",
        "        self.network = nn.Sequential(\n",
        "                        nn.Conv2d(3,    32, kernel_size=5, stride=1, padding=1),\n",
        "                        nn.BatchNorm2d(32),\n",
        "                        nn.ReLU(inplace=True),\n",
        "            \n",
        "                        nn.Conv2d(32,   32, kernel_size=5, stride=1, padding=1),\n",
        "                        nn.BatchNorm2d(32),\n",
        "                        nn.ReLU(inplace=True),\n",
        "            \n",
        "                        nn.Conv2d(32,  64, kernel_size=5, stride=1, padding=1),\n",
        "                        nn.BatchNorm2d(64),\n",
        "                        nn.ReLU(inplace=True),\n",
        "            \n",
        "                        nn.Conv2d(64, 128, kernel_size=5, stride=2, padding=1),\n",
        "                        nn.BatchNorm2d(128),\n",
        "                        nn.ReLU(inplace=True),\n",
        "            \n",
        "                        nn.Conv2d(128, 256, kernel_size=5, stride=2, padding=1),\n",
        "                        nn.BatchNorm2d(256),\n",
        "                        nn.ReLU(inplace=True),\n",
        "            \n",
        "                        nn.AvgPool2d(kernel_size=5),\n",
        "            \n",
        "                        nn.Flatten(),\n",
        "                        nn.Linear(in_features=256, out_features=no_classes, bias=True)\n",
        "                       )\n",
        "        \n",
        "    def forward(self, x):\n",
        "        return self.network(x)"
      ],
      "execution_count": 7,
      "outputs": []
    },
    {
      "cell_type": "code",
      "metadata": {
        "id": "FeetUgvgE4dE"
      },
      "source": [
        "def loss_function(preds, y):\n",
        "    return F.cross_entropy(preds,y)"
      ],
      "execution_count": 8,
      "outputs": []
    },
    {
      "cell_type": "code",
      "metadata": {
        "id": "GAO9bo-0E4dG"
      },
      "source": [
        "def evaluate(model):\n",
        "    model.eval()\n",
        "    with torch.no_grad():\n",
        "      correct_preds = 0\n",
        "      total_preds = 0\n",
        "\n",
        "      for x_test,y_test in testing_data:\n",
        "        x_test = x_test.to(device=device, dtype=torch.float32)\n",
        "        y_test = y_test.to(device=device, dtype=torch.long)\n",
        "\n",
        "        results = model(x_test)\n",
        "        _,preds = results.max(1)\n",
        "\n",
        "        correct_preds += (preds == y_test).sum()\n",
        "        total_preds += preds.size(0)\n",
        "\n",
        "      acc = 100.0 * correct_preds / total_preds\n",
        "\n",
        "      print('Correctly predicted: {}/{}, with accuracy={:.2f}%'.format(correct_preds,total_preds,acc))"
      ],
      "execution_count": 9,
      "outputs": []
    },
    {
      "cell_type": "code",
      "metadata": {
        "id": "VkkowCwWQW3i"
      },
      "source": [
        "# Keep track training losses\n",
        "valid_losses = [[],[]]\n",
        "\n",
        "def validate(model, idx):\n",
        "  model.eval()\n",
        "\n",
        "  loss = []\n",
        "  with torch.no_grad():\n",
        "    for x_validate,y_validate in validation_data:\n",
        "      x_validate = x_validate.to(device=device, dtype=torch.float32)\n",
        "      y_validate = y_validate.to(device=device, dtype=torch.long)\n",
        "\n",
        "      preds = model(x_validate)\n",
        "\n",
        "      loss.append(loss_function(preds, y_validate).item())\n",
        "\n",
        "    valid_losses[idx].append(np.mean(loss))"
      ],
      "execution_count": 10,
      "outputs": []
    },
    {
      "cell_type": "code",
      "metadata": {
        "id": "5VWW-ElKE4dI"
      },
      "source": [
        "# Keep track training losses\n",
        "train_losses = [[],[]]\n",
        "\n",
        "def training(model3, model5, optimiser3, optimiser5):\n",
        "    for epoch in range(EPOCHS):\n",
        "        for idx,(x_train,y_train) in enumerate(training_data):\n",
        "            model3.train()\n",
        "            model5.train()\n",
        "\n",
        "            x_train = x_train.to(device=device, dtype=torch.float32)\n",
        "            y_train = y_train.to(device=device, dtype=torch.long)\n",
        "\n",
        "            preds3 = model3(x_train)\n",
        "            preds5 = model5(x_train)\n",
        "\n",
        "            loss3 = loss_function(preds3, y_train)\n",
        "            loss5 = loss_function(preds5, y_train)\n",
        "\n",
        "            optimiser3.zero_grad()\n",
        "            optimiser5.zero_grad()\n",
        "\n",
        "            loss3.backward()\n",
        "            loss5.backward()\n",
        "\n",
        "            optimiser3.step()\n",
        "            optimiser5.step()\n",
        "\n",
        "            if idx % PRINT_EVERY == 0:\n",
        "                print('Epoch: %d, iteration %d, loss3=%.3f, loss5=%.3f' % (epoch, idx, loss3.item(), loss5.item()))\n",
        "                train_losses[0].append(loss3.item())\n",
        "                train_losses[1].append(loss5.item())\n",
        "\n",
        "                validate(model3, 0)\n",
        "                validate(model5, 1)"
      ],
      "execution_count": 11,
      "outputs": []
    },
    {
      "cell_type": "code",
      "metadata": {
        "id": "jVE4_adGE4dK"
      },
      "source": [
        "model3 = MyModel3()\n",
        "model3.to(device=device)\n",
        "model5 = MyModel5()\n",
        "model5.to(device=device)\n",
        "\n",
        "optimiser3 = optim.Adam(model3.parameters())\n",
        "optimiser5 = optim.Adam(model5.parameters())"
      ],
      "execution_count": 12,
      "outputs": []
    },
    {
      "cell_type": "code",
      "metadata": {
        "id": "eGl1ZrE9E4dL",
        "outputId": "2a7f0a0e-b828-4f98-ae0b-79f6eaae48d9",
        "colab": {
          "base_uri": "https://localhost:8080/",
          "height": 1000
        }
      },
      "source": [
        "training(model3, model5, optimiser3, optimiser5)\n",
        "\n",
        "# save the model\n",
        "if SAVE_MODEL:\n",
        "    torch.save(model3.state_dict(), 'model3.pt')\n",
        "    torch.save(model5.state_dict(), 'model5.pt')"
      ],
      "execution_count": 13,
      "outputs": [
        {
          "output_type": "stream",
          "text": [
            "Epoch: 0, iteration 0, loss3=2.362, loss5=2.374\n",
            "Epoch: 0, iteration 100, loss3=1.810, loss5=1.734\n",
            "Epoch: 0, iteration 200, loss3=1.525, loss5=1.609\n",
            "Epoch: 0, iteration 300, loss3=1.600, loss5=1.608\n",
            "Epoch: 0, iteration 400, loss3=1.493, loss5=1.595\n",
            "Epoch: 0, iteration 500, loss3=1.246, loss5=1.334\n",
            "Epoch: 0, iteration 600, loss3=1.077, loss5=1.029\n",
            "Epoch: 0, iteration 700, loss3=1.225, loss5=1.463\n",
            "Epoch: 1, iteration 0, loss3=1.284, loss5=1.300\n",
            "Epoch: 1, iteration 100, loss3=1.050, loss5=1.109\n",
            "Epoch: 1, iteration 200, loss3=0.915, loss5=0.935\n",
            "Epoch: 1, iteration 300, loss3=1.211, loss5=1.086\n",
            "Epoch: 1, iteration 400, loss3=1.039, loss5=0.913\n",
            "Epoch: 1, iteration 500, loss3=1.118, loss5=1.010\n",
            "Epoch: 1, iteration 600, loss3=0.888, loss5=0.920\n",
            "Epoch: 1, iteration 700, loss3=1.019, loss5=1.087\n",
            "Epoch: 2, iteration 0, loss3=1.066, loss5=1.032\n",
            "Epoch: 2, iteration 100, loss3=0.886, loss5=0.930\n",
            "Epoch: 2, iteration 200, loss3=1.239, loss5=1.191\n",
            "Epoch: 2, iteration 300, loss3=0.883, loss5=0.823\n",
            "Epoch: 2, iteration 400, loss3=0.788, loss5=0.812\n",
            "Epoch: 2, iteration 500, loss3=0.831, loss5=0.947\n",
            "Epoch: 2, iteration 600, loss3=1.104, loss5=0.970\n",
            "Epoch: 2, iteration 700, loss3=1.004, loss5=0.954\n",
            "Epoch: 3, iteration 0, loss3=1.034, loss5=0.895\n",
            "Epoch: 3, iteration 100, loss3=0.940, loss5=1.034\n",
            "Epoch: 3, iteration 200, loss3=0.755, loss5=0.720\n",
            "Epoch: 3, iteration 300, loss3=0.612, loss5=0.572\n",
            "Epoch: 3, iteration 400, loss3=0.543, loss5=0.509\n",
            "Epoch: 3, iteration 500, loss3=0.900, loss5=0.890\n",
            "Epoch: 3, iteration 600, loss3=1.005, loss5=0.802\n",
            "Epoch: 3, iteration 700, loss3=1.062, loss5=0.976\n",
            "Epoch: 4, iteration 0, loss3=1.067, loss5=0.891\n",
            "Epoch: 4, iteration 100, loss3=0.846, loss5=0.697\n",
            "Epoch: 4, iteration 200, loss3=0.912, loss5=0.709\n",
            "Epoch: 4, iteration 300, loss3=0.508, loss5=0.514\n",
            "Epoch: 4, iteration 400, loss3=0.888, loss5=0.713\n",
            "Epoch: 4, iteration 500, loss3=0.787, loss5=0.731\n",
            "Epoch: 4, iteration 600, loss3=0.637, loss5=0.455\n",
            "Epoch: 4, iteration 700, loss3=0.821, loss5=0.726\n",
            "Epoch: 5, iteration 0, loss3=0.912, loss5=0.799\n",
            "Epoch: 5, iteration 100, loss3=0.723, loss5=0.617\n",
            "Epoch: 5, iteration 200, loss3=0.705, loss5=0.675\n",
            "Epoch: 5, iteration 300, loss3=0.757, loss5=0.716\n",
            "Epoch: 5, iteration 400, loss3=0.677, loss5=0.772\n",
            "Epoch: 5, iteration 500, loss3=0.632, loss5=0.456\n",
            "Epoch: 5, iteration 600, loss3=0.541, loss5=0.554\n",
            "Epoch: 5, iteration 700, loss3=0.683, loss5=0.702\n",
            "Epoch: 6, iteration 0, loss3=0.742, loss5=0.531\n",
            "Epoch: 6, iteration 100, loss3=0.714, loss5=0.640\n",
            "Epoch: 6, iteration 200, loss3=0.896, loss5=0.767\n",
            "Epoch: 6, iteration 300, loss3=0.767, loss5=0.529\n",
            "Epoch: 6, iteration 400, loss3=0.741, loss5=0.616\n",
            "Epoch: 6, iteration 500, loss3=0.553, loss5=0.506\n",
            "Epoch: 6, iteration 600, loss3=0.934, loss5=1.011\n",
            "Epoch: 6, iteration 700, loss3=0.684, loss5=0.548\n",
            "Epoch: 7, iteration 0, loss3=0.701, loss5=0.474\n",
            "Epoch: 7, iteration 100, loss3=0.809, loss5=0.850\n",
            "Epoch: 7, iteration 200, loss3=0.683, loss5=0.673\n",
            "Epoch: 7, iteration 300, loss3=0.792, loss5=0.690\n",
            "Epoch: 7, iteration 400, loss3=0.739, loss5=0.673\n",
            "Epoch: 7, iteration 500, loss3=0.939, loss5=0.768\n",
            "Epoch: 7, iteration 600, loss3=0.556, loss5=0.656\n",
            "Epoch: 7, iteration 700, loss3=0.778, loss5=0.577\n",
            "Epoch: 8, iteration 0, loss3=0.662, loss5=0.524\n",
            "Epoch: 8, iteration 100, loss3=0.623, loss5=0.553\n",
            "Epoch: 8, iteration 200, loss3=0.634, loss5=0.486\n",
            "Epoch: 8, iteration 300, loss3=0.450, loss5=0.515\n",
            "Epoch: 8, iteration 400, loss3=0.586, loss5=0.584\n",
            "Epoch: 8, iteration 500, loss3=0.555, loss5=0.527\n",
            "Epoch: 8, iteration 600, loss3=0.581, loss5=0.703\n",
            "Epoch: 8, iteration 700, loss3=0.668, loss5=0.748\n",
            "Epoch: 9, iteration 0, loss3=0.517, loss5=0.534\n",
            "Epoch: 9, iteration 100, loss3=0.608, loss5=0.581\n",
            "Epoch: 9, iteration 200, loss3=0.583, loss5=0.473\n",
            "Epoch: 9, iteration 300, loss3=0.590, loss5=0.437\n",
            "Epoch: 9, iteration 400, loss3=0.625, loss5=0.586\n",
            "Epoch: 9, iteration 500, loss3=0.616, loss5=0.427\n",
            "Epoch: 9, iteration 600, loss3=0.508, loss5=0.393\n",
            "Epoch: 9, iteration 700, loss3=0.613, loss5=0.550\n"
          ],
          "name": "stdout"
        }
      ]
    },
    {
      "cell_type": "code",
      "metadata": {
        "id": "5lm3la0lE4dN",
        "outputId": "6a441687-a1c3-49a0-dcfe-a4f713f0849e",
        "colab": {
          "base_uri": "https://localhost:8080/",
          "height": 313
        }
      },
      "source": [
        "evaluate(model3)\n",
        "evaluate(model5)\n",
        "\n",
        "plt.plot(train_losses[0], 'b')\n",
        "plt.plot(train_losses[1], 'c')\n",
        "plt.plot(valid_losses[0], 'r')\n",
        "plt.plot(valid_losses[1], 'm')\n",
        "plt.xlabel('Iteration')\n",
        "plt.ylabel('Loss')\n",
        "plt.legend(['Train loss kernel_size=3','Train loss kernel_size=5','Validation loss kernel_size=3','Validation loss kernel_size=5'])\n",
        "plt.show()"
      ],
      "execution_count": 14,
      "outputs": [
        {
          "output_type": "stream",
          "text": [
            "Correctly predicted: 7806/10000, with accuracy=78.06%\n",
            "Correctly predicted: 8108/10000, with accuracy=81.08%\n"
          ],
          "name": "stdout"
        },
        {
          "output_type": "display_data",
          "data": {
            "image/png": "[encoded data removed]",
            "text/plain": [
              "<Figure size 432x288 with 1 Axes>"
            ]
          },
          "metadata": {
            "tags": [],
            "needs_background": "light"
          }
        }
      ]
    }
  ]
}