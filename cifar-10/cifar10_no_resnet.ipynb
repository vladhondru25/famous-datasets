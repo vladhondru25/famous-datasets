{
 "cells": [
  {
   "cell_type": "code",
   "execution_count": 1,
   "metadata": {
    "id": "nIRsffnlE4c0"
   },
   "outputs": [],
   "source": [
    "import torch\n",
    "import torch.nn as nn\n",
    "import torchvision.datasets\n",
    "import torch.optim as optim\n",
    "import torch.nn.functional as F\n",
    "import torchvision.transforms as T\n",
    "from torch.utils.data import SubsetRandomSampler, DataLoader\n",
    "import numpy as np\n",
    "import matplotlib.pyplot as plt"
   ]
  },
  {
   "cell_type": "code",
   "execution_count": 2,
   "metadata": {
    "colab": {
     "base_uri": "https://localhost:8080/"
    },
    "id": "NR5SKbaoE4c3",
    "outputId": "df2a4ad9-85fc-4639-9c49-b413f76c2b32"
   },
   "outputs": [
    {
     "name": "stdout",
     "output_type": "stream",
     "text": [
      "cpu\n"
     ]
    }
   ],
   "source": [
    "# Hyperparameters and constants\n",
    "BATCH_SIZE = 64\n",
    "NUM_TRAIN = 49000\n",
    "EPOCHS = 10\n",
    "\n",
    "PRINT_EVERY = 100\n",
    "\n",
    "SAVE_MODEL = False\n",
    "\n",
    "R_MEAN = 0.4914\n",
    "G_MEAN = 0.4822\n",
    "B_MEAN = 0.4465\n",
    "R_STD = 0.2023\n",
    "G_STD = 0.1994\n",
    "B_STD = 0.2010\n",
    "\n",
    "# Use GPU if available\n",
    "device = torch.device('cpu')\n",
    "if torch.cuda.is_available():\n",
    "    device = torch.device('cuda')\n",
    "print(device)"
   ]
  },
  {
   "cell_type": "code",
   "execution_count": 3,
   "metadata": {},
   "outputs": [],
   "source": [
    "# Set random seed for replicating testing results\n",
    "np.random.seed(0)\n",
    "torch.manual_seed(0)\n",
    "if torch.cuda.is_available():\n",
    "    torch.cuda.manual_seed(0)"
   ]
  },
  {
   "cell_type": "code",
   "execution_count": 4,
   "metadata": {
    "id": "r3Lwdw_OE4c6"
   },
   "outputs": [],
   "source": [
    "# Normalise the dataset\n",
    "transform = T.Compose([\n",
    "                T.ToTensor(),\n",
    "                T.Normalize((R_MEAN, G_MEAN, B_MEAN), (R_STD, G_STD, B_STD))\n",
    "            ])\n",
    "# Augement and normalise the dataset\n",
    "transform_aug = T.Compose([\n",
    "                  T.RandomCrop(32, padding=4),\n",
    "                  T.RandomHorizontalFlip(p=0.5),\n",
    "                  T.ToTensor(),\n",
    "                  T.Normalize((R_MEAN, G_MEAN, B_MEAN), (R_STD, G_STD, B_STD))\n",
    "                ])"
   ]
  },
  {
   "cell_type": "code",
   "execution_count": 5,
   "metadata": {
    "colab": {
     "base_uri": "https://localhost:8080/",
     "height": 117,
     "referenced_widgets": [
      "f42c6937b9e647fabdd91193ad5af8e7",
      "f2c1e9ace81c4df3a118578387ef2d15",
      "531b9b039158405aa476789feafb3298",
      "674a8d4c55eb4153a8362edc58b91f06",
      "4b4aa3dc54cd4c2aa831e405d966214c",
      "8b742fc1da8747109da3fd46d1a5cf89",
      "c045d249d60a424a936ba30bb0f15b50",
      "2f0795adce464d35bda734626a4b0f42"
     ]
    },
    "id": "PGVSNIkHE4c9",
    "outputId": "e555ef41-3e09-4150-dd22-862ef73a2777"
   },
   "outputs": [
    {
     "name": "stdout",
     "output_type": "stream",
     "text": [
      "Downloading https://www.cs.toronto.edu/~kriz/cifar-10-python.tar.gz to data/cifar-10-python.tar.gz\n"
     ]
    },
    {
     "data": {
      "application/vnd.jupyter.widget-view+json": {
       "model_id": "f42c6937b9e647fabdd91193ad5af8e7",
       "version_major": 2,
       "version_minor": 0
      },
      "text/plain": [
       "HBox(children=(FloatProgress(value=1.0, bar_style='info', max=1.0), HTML(value='')))"
      ]
     },
     "metadata": {
      "tags": []
     },
     "output_type": "display_data"
    },
    {
     "name": "stdout",
     "output_type": "stream",
     "text": [
      "Extracting data/cifar-10-python.tar.gz to data/\n",
      "Files already downloaded and verified\n",
      "Files already downloaded and verified\n"
     ]
    }
   ],
   "source": [
    "# Load CIFAR10\n",
    "training_dataset   = torchvision.datasets.CIFAR10('data/', train=True,  transform=transform_aug, download=True)\n",
    "validation_dataset = torchvision.datasets.CIFAR10('data/', train=True,  transform=transform, download=True)\n",
    "testing_dataset    = torchvision.datasets.CIFAR10('data/', train=False, transform=transform, download=True)\n",
    "\n",
    "\n",
    "# Create dataloaders\n",
    "training_data   = DataLoader(training_dataset,   batch_size=BATCH_SIZE, shuffle=False, sampler=SubsetRandomSampler(range(NUM_TRAIN)))\n",
    "validation_data = DataLoader(validation_dataset, batch_size=BATCH_SIZE, shuffle=False, sampler=SubsetRandomSampler(range(NUM_TRAIN,50000)))\n",
    "testing_data    = DataLoader(testing_dataset,    batch_size=BATCH_SIZE, shuffle=False)"
   ]
  },
  {
   "cell_type": "code",
   "execution_count": 6,
   "metadata": {
    "id": "NDc1Z0ydE4dA"
   },
   "outputs": [],
   "source": [
    "class MyModel(nn.Module):\n",
    "    def __init__(self, no_classes=10):\n",
    "        super(MyModel, self).__init__()\n",
    "        \n",
    "        self.network = nn.Sequential(\n",
    "                        nn.Conv2d(3,    32, kernel_size=3, stride=1, padding=1),\n",
    "                        nn.BatchNorm2d(32),\n",
    "                        nn.ReLU(inplace=True),\n",
    "            \n",
    "                        nn.Conv2d(32,   32, kernel_size=3, stride=1, padding=1),\n",
    "                        nn.BatchNorm2d(32),\n",
    "                        nn.ReLU(inplace=True),\n",
    "            \n",
    "                        nn.Conv2d(32,  64, kernel_size=3, stride=2, padding=1),\n",
    "                        nn.BatchNorm2d(64),\n",
    "                        nn.ReLU(inplace=True),\n",
    "            \n",
    "                        nn.Conv2d(64, 128, kernel_size=3, stride=2, padding=1),\n",
    "                        nn.BatchNorm2d(128),\n",
    "                        nn.ReLU(inplace=True),\n",
    "            \n",
    "                        nn.Conv2d(128, 256, kernel_size=3, stride=2, padding=1),\n",
    "                        nn.BatchNorm2d(256),\n",
    "                        nn.ReLU(inplace=True),\n",
    "            \n",
    "                        nn.AvgPool2d(kernel_size=4),\n",
    "            \n",
    "                        nn.Flatten(),\n",
    "                        nn.Linear(in_features=256, out_features=no_classes, bias=True)\n",
    "                       )\n",
    "        \n",
    "    def forward(self, x):\n",
    "        return self.network(x)"
   ]
  },
  {
   "cell_type": "code",
   "execution_count": 7,
   "metadata": {
    "id": "FeetUgvgE4dE"
   },
   "outputs": [],
   "source": [
    "def loss_function(preds, y):\n",
    "    return F.cross_entropy(preds,y)"
   ]
  },
  {
   "cell_type": "code",
   "execution_count": 8,
   "metadata": {
    "id": "GAO9bo-0E4dG"
   },
   "outputs": [],
   "source": [
    "def evaluate(model):\n",
    "    model.eval()\n",
    "    with torch.no_grad():\n",
    "      correct_preds = 0\n",
    "      total_preds = 0\n",
    "\n",
    "      for x_test,y_test in testing_data:\n",
    "        x_test = x_test.to(device=device, dtype=torch.float32)\n",
    "        y_test = y_test.to(device=device, dtype=torch.long)\n",
    "\n",
    "        results = model(x_test)\n",
    "        _,preds = results.max(1)\n",
    "\n",
    "        correct_preds += (preds == y_test).sum()\n",
    "        total_preds += preds.size(0)\n",
    "\n",
    "      acc = 100.0 * correct_preds / total_preds\n",
    "\n",
    "      print('Correctly predicted: {}/{}, with accuracy={:.2f}%'.format(correct_preds,total_preds,acc))"
   ]
  },
  {
   "cell_type": "code",
   "execution_count": 9,
   "metadata": {
    "id": "VkkowCwWQW3i"
   },
   "outputs": [],
   "source": [
    "# Keep track training losses\n",
    "valid_losses = []\n",
    "\n",
    "def validate(model):\n",
    "  model.eval()\n",
    "\n",
    "  loss = []\n",
    "  with torch.no_grad():\n",
    "    for x_validate,y_validate in validation_data:\n",
    "      x_validate = x_validate.to(device=device, dtype=torch.float32)\n",
    "      y_validate = y_validate.to(device=device, dtype=torch.long)\n",
    "\n",
    "      preds = model(x_validate)\n",
    "\n",
    "      loss.append(loss_function(preds, y_validate).item())\n",
    "\n",
    "    valid_losses.append(np.mean(loss))"
   ]
  },
  {
   "cell_type": "code",
   "execution_count": 10,
   "metadata": {
    "id": "5VWW-ElKE4dI"
   },
   "outputs": [],
   "source": [
    "# Keep track training losses\n",
    "train_losses = []\n",
    "\n",
    "def training(model, optimiser):\n",
    "    for epoch in range(EPOCHS):\n",
    "        for idx,(x_train,y_train) in enumerate(training_data):\n",
    "            model.train()\n",
    "\n",
    "            x_train = x_train.to(device=device, dtype=torch.float32)\n",
    "            y_train = y_train.to(device=device, dtype=torch.long)\n",
    "\n",
    "            preds = model(x_train)\n",
    "\n",
    "            loss = loss_function(preds, y_train)\n",
    "\n",
    "            optimiser.zero_grad()\n",
    "\n",
    "            loss.backward()\n",
    "\n",
    "            optimiser.step()\n",
    "\n",
    "            if idx % PRINT_EVERY == 0:\n",
    "                print('Epoch: %d, iteration %d, loss=%.3f' % (epoch, idx, loss.item()))\n",
    "                train_losses.append(loss.item())\n",
    "\n",
    "                validate(model)"
   ]
  },
  {
   "cell_type": "code",
   "execution_count": 11,
   "metadata": {
    "id": "jVE4_adGE4dK"
   },
   "outputs": [],
   "source": [
    "model = MyModel()\n",
    "model.to(device=device)\n",
    "\n",
    "optimiser = optim.Adam(model.parameters())"
   ]
  },
  {
   "cell_type": "code",
   "execution_count": 12,
   "metadata": {
    "colab": {
     "base_uri": "https://localhost:8080/"
    },
    "id": "eGl1ZrE9E4dL",
    "outputId": "d3c162d5-332d-44e8-ac1a-d2b09472c38e"
   },
   "outputs": [
    {
     "name": "stdout",
     "output_type": "stream",
     "text": [
      "Epoch: 0, iteration 0, loss=2.335\n",
      "Epoch: 0, iteration 100, loss=1.906\n",
      "Epoch: 0, iteration 200, loss=1.775\n",
      "Epoch: 0, iteration 300, loss=1.421\n",
      "Epoch: 0, iteration 400, loss=1.189\n",
      "Epoch: 0, iteration 500, loss=1.206\n",
      "Epoch: 0, iteration 600, loss=1.104\n",
      "Epoch: 0, iteration 700, loss=1.391\n",
      "Epoch: 1, iteration 0, loss=1.267\n",
      "Epoch: 1, iteration 100, loss=1.165\n",
      "Epoch: 1, iteration 200, loss=1.281\n",
      "Epoch: 1, iteration 300, loss=1.037\n",
      "Epoch: 1, iteration 400, loss=0.993\n",
      "Epoch: 1, iteration 500, loss=1.043\n",
      "Epoch: 1, iteration 600, loss=0.925\n",
      "Epoch: 1, iteration 700, loss=0.839\n",
      "Epoch: 2, iteration 0, loss=1.043\n",
      "Epoch: 2, iteration 100, loss=0.857\n",
      "Epoch: 2, iteration 200, loss=0.905\n",
      "Epoch: 2, iteration 300, loss=0.931\n",
      "Epoch: 2, iteration 400, loss=0.981\n",
      "Epoch: 2, iteration 500, loss=0.875\n",
      "Epoch: 2, iteration 600, loss=0.893\n",
      "Epoch: 2, iteration 700, loss=0.901\n",
      "Epoch: 3, iteration 0, loss=0.868\n",
      "Epoch: 3, iteration 100, loss=0.938\n",
      "Epoch: 3, iteration 200, loss=0.857\n",
      "Epoch: 3, iteration 300, loss=0.874\n",
      "Epoch: 3, iteration 400, loss=0.892\n",
      "Epoch: 3, iteration 500, loss=0.970\n",
      "Epoch: 3, iteration 600, loss=0.877\n",
      "Epoch: 3, iteration 700, loss=0.905\n",
      "Epoch: 4, iteration 0, loss=0.935\n",
      "Epoch: 4, iteration 100, loss=0.875\n",
      "Epoch: 4, iteration 200, loss=0.912\n",
      "Epoch: 4, iteration 300, loss=0.894\n",
      "Epoch: 4, iteration 400, loss=0.709\n",
      "Epoch: 4, iteration 500, loss=1.043\n",
      "Epoch: 4, iteration 600, loss=0.882\n",
      "Epoch: 4, iteration 700, loss=0.793\n",
      "Epoch: 5, iteration 0, loss=0.623\n",
      "Epoch: 5, iteration 100, loss=0.960\n",
      "Epoch: 5, iteration 200, loss=0.861\n",
      "Epoch: 5, iteration 300, loss=0.787\n",
      "Epoch: 5, iteration 400, loss=0.501\n",
      "Epoch: 5, iteration 500, loss=1.057\n",
      "Epoch: 5, iteration 600, loss=0.797\n",
      "Epoch: 5, iteration 700, loss=0.679\n",
      "Epoch: 6, iteration 0, loss=0.654\n",
      "Epoch: 6, iteration 100, loss=0.788\n",
      "Epoch: 6, iteration 200, loss=0.821\n",
      "Epoch: 6, iteration 300, loss=0.507\n",
      "Epoch: 6, iteration 400, loss=0.717\n",
      "Epoch: 6, iteration 500, loss=0.856\n",
      "Epoch: 6, iteration 600, loss=0.672\n",
      "Epoch: 6, iteration 700, loss=0.474\n",
      "Epoch: 7, iteration 0, loss=0.520\n",
      "Epoch: 7, iteration 100, loss=0.577\n",
      "Epoch: 7, iteration 200, loss=0.718\n",
      "Epoch: 7, iteration 300, loss=0.477\n",
      "Epoch: 7, iteration 400, loss=0.547\n",
      "Epoch: 7, iteration 500, loss=0.651\n",
      "Epoch: 7, iteration 600, loss=0.564\n",
      "Epoch: 7, iteration 700, loss=0.726\n",
      "Epoch: 8, iteration 0, loss=0.590\n",
      "Epoch: 8, iteration 100, loss=0.596\n",
      "Epoch: 8, iteration 200, loss=0.579\n",
      "Epoch: 8, iteration 300, loss=0.786\n",
      "Epoch: 8, iteration 400, loss=0.651\n",
      "Epoch: 8, iteration 500, loss=0.673\n",
      "Epoch: 8, iteration 600, loss=0.686\n",
      "Epoch: 8, iteration 700, loss=0.698\n",
      "Epoch: 9, iteration 0, loss=0.553\n",
      "Epoch: 9, iteration 100, loss=0.459\n",
      "Epoch: 9, iteration 200, loss=0.584\n",
      "Epoch: 9, iteration 300, loss=0.587\n",
      "Epoch: 9, iteration 400, loss=0.586\n",
      "Epoch: 9, iteration 500, loss=0.672\n",
      "Epoch: 9, iteration 600, loss=0.650\n",
      "Epoch: 9, iteration 700, loss=0.685\n"
     ]
    }
   ],
   "source": [
    "training(model, optimiser)\n",
    "\n",
    "# save the model\n",
    "if SAVE_MODEL:\n",
    "    torch.save(model.state_dict(), 'model.pt')"
   ]
  },
  {
   "cell_type": "code",
   "execution_count": 13,
   "metadata": {
    "colab": {
     "base_uri": "https://localhost:8080/",
     "height": 296
    },
    "id": "5lm3la0lE4dN",
    "outputId": "406830c5-add4-47df-b66c-9d070e9c39fa"
   },
   "outputs": [
    {
     "name": "stdout",
     "output_type": "stream",
     "text": [
      "Correctly predicted: 7813/10000, with accuracy=78.13%\n"
     ]
    },
    {
     "data": {
      "image/png": "[encoded data removed]",
      "text/plain": [
       "<Figure size 432x288 with 1 Axes>"
      ]
     },
     "metadata": {
      "needs_background": "light",
      "tags": []
     },
     "output_type": "display_data"
    }
   ],
   "source": [
    "evaluate(model)\n",
    "\n",
    "plt.plot(train_losses, 'b')\n",
    "plt.plot(valid_losses, 'r')\n",
    "plt.xlabel('Iteration')\n",
    "plt.ylabel('Loss')\n",
    "plt.legend(['Train loss','Validation loss'])\n",
    "plt.show()"
   ]
  }
 ],
 "metadata": {
  "accelerator": "GPU",
  "colab": {
   "collapsed_sections": [],
   "name": "cifar10_no_resnet.ipynb",
   "provenance": []
  },
  "kernelspec": {
   "display_name": "Python 3",
   "language": "python",
   "name": "python3"
  },
  "language_info": {
   "codemirror_mode": {
    "name": "ipython",
    "version": 3
   },
   "file_extension": ".py",
   "mimetype": "text/x-python",
   "name": "python",
   "nbconvert_exporter": "python",
   "pygments_lexer": "ipython3",
   "version": "3.7.9"
  },
  "widgets": {
   "application/vnd.jupyter.widget-state+json": {
    "2f0795adce464d35bda734626a4b0f42": {
     "model_module": "@jupyter-widgets/base",
     "model_name": "LayoutModel",
     "state": {
      "_model_module": "@jupyter-widgets/base",
      "_model_module_version": "1.2.0",
      "_model_name": "LayoutModel",
      "_view_count": null,
      "_view_module": "@jupyter-widgets/base",
      "_view_module_version": "1.2.0",
      "_view_name": "LayoutView",
      "align_content": null,
      "align_items": null,
      "align_self": null,
      "border": null,
      "bottom": null,
      "display": null,
      "flex": null,
      "flex_flow": null,
      "grid_area": null,
      "grid_auto_columns": null,
      "grid_auto_flow": null,
      "grid_auto_rows": null,
      "grid_column": null,
      "grid_gap": null,
      "grid_row": null,
      "grid_template_areas": null,
      "grid_template_columns": null,
      "grid_template_rows": null,
      "height": null,
      "justify_content": null,
      "justify_items": null,
      "left": null,
      "margin": null,
      "max_height": null,
      "max_width": null,
      "min_height": null,
      "min_width": null,
      "object_fit": null,
      "object_position": null,
      "order": null,
      "overflow": null,
      "overflow_x": null,
      "overflow_y": null,
      "padding": null,
      "right": null,
      "top": null,
      "visibility": null,
      "width": null
     }
    },
    "4b4aa3dc54cd4c2aa831e405d966214c": {
     "model_module": "@jupyter-widgets/controls",
     "model_name": "ProgressStyleModel",
     "state": {
      "_model_module": "@jupyter-widgets/controls",
      "_model_module_version": "1.5.0",
      "_model_name": "ProgressStyleModel",
      "_view_count": null,
      "_view_module": "@jupyter-widgets/base",
      "_view_module_version": "1.2.0",
      "_view_name": "StyleView",
      "bar_color": null,
      "description_width": "initial"
     }
    },
    "531b9b039158405aa476789feafb3298": {
     "model_module": "@jupyter-widgets/controls",
     "model_name": "FloatProgressModel",
     "state": {
      "_dom_classes": [],
      "_model_module": "@jupyter-widgets/controls",
      "_model_module_version": "1.5.0",
      "_model_name": "FloatProgressModel",
      "_view_count": null,
      "_view_module": "@jupyter-widgets/controls",
      "_view_module_version": "1.5.0",
      "_view_name": "ProgressView",
      "bar_style": "info",
      "description": "",
      "description_tooltip": null,
      "layout": "IPY_MODEL_8b742fc1da8747109da3fd46d1a5cf89",
      "max": 1,
      "min": 0,
      "orientation": "horizontal",
      "style": "IPY_MODEL_4b4aa3dc54cd4c2aa831e405d966214c",
      "value": 1
     }
    },
    "674a8d4c55eb4153a8362edc58b91f06": {
     "model_module": "@jupyter-widgets/controls",
     "model_name": "HTMLModel",
     "state": {
      "_dom_classes": [],
      "_model_module": "@jupyter-widgets/controls",
      "_model_module_version": "1.5.0",
      "_model_name": "HTMLModel",
      "_view_count": null,
      "_view_module": "@jupyter-widgets/controls",
      "_view_module_version": "1.5.0",
      "_view_name": "HTMLView",
      "description": "",
      "description_tooltip": null,
      "layout": "IPY_MODEL_2f0795adce464d35bda734626a4b0f42",
      "placeholder": "​",
      "style": "IPY_MODEL_c045d249d60a424a936ba30bb0f15b50",
      "value": " 170500096/? [00:20&lt;00:00, 54000102.25it/s]"
     }
    },
    "8b742fc1da8747109da3fd46d1a5cf89": {
     "model_module": "@jupyter-widgets/base",
     "model_name": "LayoutModel",
     "state": {
      "_model_module": "@jupyter-widgets/base",
      "_model_module_version": "1.2.0",
      "_model_name": "LayoutModel",
      "_view_count": null,
      "_view_module": "@jupyter-widgets/base",
      "_view_module_version": "1.2.0",
      "_view_name": "LayoutView",
      "align_content": null,
      "align_items": null,
      "align_self": null,
      "border": null,
      "bottom": null,
      "display": null,
      "flex": null,
      "flex_flow": null,
      "grid_area": null,
      "grid_auto_columns": null,
      "grid_auto_flow": null,
      "grid_auto_rows": null,
      "grid_column": null,
      "grid_gap": null,
      "grid_row": null,
      "grid_template_areas": null,
      "grid_template_columns": null,
      "grid_template_rows": null,
      "height": null,
      "justify_content": null,
      "justify_items": null,
      "left": null,
      "margin": null,
      "max_height": null,
      "max_width": null,
      "min_height": null,
      "min_width": null,
      "object_fit": null,
      "object_position": null,
      "order": null,
      "overflow": null,
      "overflow_x": null,
      "overflow_y": null,
      "padding": null,
      "right": null,
      "top": null,
      "visibility": null,
      "width": null
     }
    },
    "c045d249d60a424a936ba30bb0f15b50": {
     "model_module": "@jupyter-widgets/controls",
     "model_name": "DescriptionStyleModel",
     "state": {
      "_model_module": "@jupyter-widgets/controls",
      "_model_module_version": "1.5.0",
      "_model_name": "DescriptionStyleModel",
      "_view_count": null,
      "_view_module": "@jupyter-widgets/base",
      "_view_module_version": "1.2.0",
      "_view_name": "StyleView",
      "description_width": ""
     }
    },
    "f2c1e9ace81c4df3a118578387ef2d15": {
     "model_module": "@jupyter-widgets/base",
     "model_name": "LayoutModel",
     "state": {
      "_model_module": "@jupyter-widgets/base",
      "_model_module_version": "1.2.0",
      "_model_name": "LayoutModel",
      "_view_count": null,
      "_view_module": "@jupyter-widgets/base",
      "_view_module_version": "1.2.0",
      "_view_name": "LayoutView",
      "align_content": null,
      "align_items": null,
      "align_self": null,
      "border": null,
      "bottom": null,
      "display": null,
      "flex": null,
      "flex_flow": null,
      "grid_area": null,
      "grid_auto_columns": null,
      "grid_auto_flow": null,
      "grid_auto_rows": null,
      "grid_column": null,
      "grid_gap": null,
      "grid_row": null,
      "grid_template_areas": null,
      "grid_template_columns": null,
      "grid_template_rows": null,
      "height": null,
      "justify_content": null,
      "justify_items": null,
      "left": null,
      "margin": null,
      "max_height": null,
      "max_width": null,
      "min_height": null,
      "min_width": null,
      "object_fit": null,
      "object_position": null,
      "order": null,
      "overflow": null,
      "overflow_x": null,
      "overflow_y": null,
      "padding": null,
      "right": null,
      "top": null,
      "visibility": null,
      "width": null
     }
    },
    "f42c6937b9e647fabdd91193ad5af8e7": {
     "model_module": "@jupyter-widgets/controls",
     "model_name": "HBoxModel",
     "state": {
      "_dom_classes": [],
      "_model_module": "@jupyter-widgets/controls",
      "_model_module_version": "1.5.0",
      "_model_name": "HBoxModel",
      "_view_count": null,
      "_view_module": "@jupyter-widgets/controls",
      "_view_module_version": "1.5.0",
      "_view_name": "HBoxView",
      "box_style": "",
      "children": [
       "IPY_MODEL_531b9b039158405aa476789feafb3298",
       "IPY_MODEL_674a8d4c55eb4153a8362edc58b91f06"
      ],
      "layout": "IPY_MODEL_f2c1e9ace81c4df3a118578387ef2d15"
     }
    }
   }
  }
 },
 "nbformat": 4,
 "nbformat_minor": 4
}
