{
  "nbformat": 4,
  "nbformat_minor": 0,
  "metadata": {
    "accelerator": "GPU",
    "colab": {
      "name": "cifar10_no_resnet_dropout.ipynb",
      "provenance": [],
      "collapsed_sections": []
    },
    "kernelspec": {
      "display_name": "Python 3",
      "language": "python",
      "name": "python3"
    },
    "language_info": {
      "codemirror_mode": {
        "name": "ipython",
        "version": 3
      },
      "file_extension": ".py",
      "mimetype": "text/x-python",
      "name": "python",
      "nbconvert_exporter": "python",
      "pygments_lexer": "ipython3",
      "version": "3.7.9"
    },
    "widgets": {
      "application/vnd.jupyter.widget-state+json": {
        "d06187153002451e918621fa875eae90": {
          "model_module": "@jupyter-widgets/controls",
          "model_name": "HBoxModel",
          "state": {
            "_view_name": "HBoxView",
            "_dom_classes": [],
            "_model_name": "HBoxModel",
            "_view_module": "@jupyter-widgets/controls",
            "_model_module_version": "1.5.0",
            "_view_count": null,
            "_view_module_version": "1.5.0",
            "box_style": "",
            "layout": "IPY_MODEL_a8037daf45b141d7a7718cbba64e23e7",
            "_model_module": "@jupyter-widgets/controls",
            "children": [
              "IPY_MODEL_d93f84c1308e46b29d7c51e4386528ec",
              "IPY_MODEL_7318dbc086c94e6787c529870b9069f5"
            ]
          }
        },
        "a8037daf45b141d7a7718cbba64e23e7": {
          "model_module": "@jupyter-widgets/base",
          "model_name": "LayoutModel",
          "state": {
            "_view_name": "LayoutView",
            "grid_template_rows": null,
            "right": null,
            "justify_content": null,
            "_view_module": "@jupyter-widgets/base",
            "overflow": null,
            "_model_module_version": "1.2.0",
            "_view_count": null,
            "flex_flow": null,
            "width": null,
            "min_width": null,
            "border": null,
            "align_items": null,
            "bottom": null,
            "_model_module": "@jupyter-widgets/base",
            "top": null,
            "grid_column": null,
            "overflow_y": null,
            "overflow_x": null,
            "grid_auto_flow": null,
            "grid_area": null,
            "grid_template_columns": null,
            "flex": null,
            "_model_name": "LayoutModel",
            "justify_items": null,
            "grid_row": null,
            "max_height": null,
            "align_content": null,
            "visibility": null,
            "align_self": null,
            "height": null,
            "min_height": null,
            "padding": null,
            "grid_auto_rows": null,
            "grid_gap": null,
            "max_width": null,
            "order": null,
            "_view_module_version": "1.2.0",
            "grid_template_areas": null,
            "object_position": null,
            "object_fit": null,
            "grid_auto_columns": null,
            "margin": null,
            "display": null,
            "left": null
          }
        },
        "d93f84c1308e46b29d7c51e4386528ec": {
          "model_module": "@jupyter-widgets/controls",
          "model_name": "FloatProgressModel",
          "state": {
            "_view_name": "ProgressView",
            "style": "IPY_MODEL_6009971997754a7ca1060467b45be55c",
            "_dom_classes": [],
            "description": "",
            "_model_name": "FloatProgressModel",
            "bar_style": "info",
            "max": 1,
            "_view_module": "@jupyter-widgets/controls",
            "_model_module_version": "1.5.0",
            "value": 1,
            "_view_count": null,
            "_view_module_version": "1.5.0",
            "orientation": "horizontal",
            "min": 0,
            "description_tooltip": null,
            "_model_module": "@jupyter-widgets/controls",
            "layout": "IPY_MODEL_d840ce2cb72a46c3a32b810f04f6d7a0"
          }
        },
        "7318dbc086c94e6787c529870b9069f5": {
          "model_module": "@jupyter-widgets/controls",
          "model_name": "HTMLModel",
          "state": {
            "_view_name": "HTMLView",
            "style": "IPY_MODEL_a563a0788c894aceb36744a2e456b33a",
            "_dom_classes": [],
            "description": "",
            "_model_name": "HTMLModel",
            "placeholder": "​",
            "_view_module": "@jupyter-widgets/controls",
            "_model_module_version": "1.5.0",
            "value": " 170500096/? [00:20&lt;00:00, 53098072.50it/s]",
            "_view_count": null,
            "_view_module_version": "1.5.0",
            "description_tooltip": null,
            "_model_module": "@jupyter-widgets/controls",
            "layout": "IPY_MODEL_20e786134e9b4a5f8c99cb9d31745585"
          }
        },
        "6009971997754a7ca1060467b45be55c": {
          "model_module": "@jupyter-widgets/controls",
          "model_name": "ProgressStyleModel",
          "state": {
            "_view_name": "StyleView",
            "_model_name": "ProgressStyleModel",
            "description_width": "initial",
            "_view_module": "@jupyter-widgets/base",
            "_model_module_version": "1.5.0",
            "_view_count": null,
            "_view_module_version": "1.2.0",
            "bar_color": null,
            "_model_module": "@jupyter-widgets/controls"
          }
        },
        "d840ce2cb72a46c3a32b810f04f6d7a0": {
          "model_module": "@jupyter-widgets/base",
          "model_name": "LayoutModel",
          "state": {
            "_view_name": "LayoutView",
            "grid_template_rows": null,
            "right": null,
            "justify_content": null,
            "_view_module": "@jupyter-widgets/base",
            "overflow": null,
            "_model_module_version": "1.2.0",
            "_view_count": null,
            "flex_flow": null,
            "width": null,
            "min_width": null,
            "border": null,
            "align_items": null,
            "bottom": null,
            "_model_module": "@jupyter-widgets/base",
            "top": null,
            "grid_column": null,
            "overflow_y": null,
            "overflow_x": null,
            "grid_auto_flow": null,
            "grid_area": null,
            "grid_template_columns": null,
            "flex": null,
            "_model_name": "LayoutModel",
            "justify_items": null,
            "grid_row": null,
            "max_height": null,
            "align_content": null,
            "visibility": null,
            "align_self": null,
            "height": null,
            "min_height": null,
            "padding": null,
            "grid_auto_rows": null,
            "grid_gap": null,
            "max_width": null,
            "order": null,
            "_view_module_version": "1.2.0",
            "grid_template_areas": null,
            "object_position": null,
            "object_fit": null,
            "grid_auto_columns": null,
            "margin": null,
            "display": null,
            "left": null
          }
        },
        "a563a0788c894aceb36744a2e456b33a": {
          "model_module": "@jupyter-widgets/controls",
          "model_name": "DescriptionStyleModel",
          "state": {
            "_view_name": "StyleView",
            "_model_name": "DescriptionStyleModel",
            "description_width": "",
            "_view_module": "@jupyter-widgets/base",
            "_model_module_version": "1.5.0",
            "_view_count": null,
            "_view_module_version": "1.2.0",
            "_model_module": "@jupyter-widgets/controls"
          }
        },
        "20e786134e9b4a5f8c99cb9d31745585": {
          "model_module": "@jupyter-widgets/base",
          "model_name": "LayoutModel",
          "state": {
            "_view_name": "LayoutView",
            "grid_template_rows": null,
            "right": null,
            "justify_content": null,
            "_view_module": "@jupyter-widgets/base",
            "overflow": null,
            "_model_module_version": "1.2.0",
            "_view_count": null,
            "flex_flow": null,
            "width": null,
            "min_width": null,
            "border": null,
            "align_items": null,
            "bottom": null,
            "_model_module": "@jupyter-widgets/base",
            "top": null,
            "grid_column": null,
            "overflow_y": null,
            "overflow_x": null,
            "grid_auto_flow": null,
            "grid_area": null,
            "grid_template_columns": null,
            "flex": null,
            "_model_name": "LayoutModel",
            "justify_items": null,
            "grid_row": null,
            "max_height": null,
            "align_content": null,
            "visibility": null,
            "align_self": null,
            "height": null,
            "min_height": null,
            "padding": null,
            "grid_auto_rows": null,
            "grid_gap": null,
            "max_width": null,
            "order": null,
            "_view_module_version": "1.2.0",
            "grid_template_areas": null,
            "object_position": null,
            "object_fit": null,
            "grid_auto_columns": null,
            "margin": null,
            "display": null,
            "left": null
          }
        }
      }
    }
  },
  "cells": [
    {
      "cell_type": "code",
      "metadata": {
        "id": "nIRsffnlE4c0"
      },
      "source": [
        "import torch\n",
        "import torch.nn as nn\n",
        "import torchvision.datasets\n",
        "import torch.optim as optim\n",
        "import torch.nn.functional as F\n",
        "import torchvision.transforms as T\n",
        "from torch.utils.data import SubsetRandomSampler, DataLoader\n",
        "import numpy as np\n",
        "import matplotlib.pyplot as plt"
      ],
      "execution_count": 1,
      "outputs": []
    },
    {
      "cell_type": "code",
      "metadata": {
        "id": "NR5SKbaoE4c3",
        "outputId": "5ac8b6c0-1e58-4689-c555-8d46066d061e",
        "colab": {
          "base_uri": "https://localhost:8080/",
          "height": 34
        }
      },
      "source": [
        "# Hyperparameters and constants\n",
        "BATCH_SIZE = 64\n",
        "NUM_TRAIN = 49000\n",
        "EPOCHS = 10\n",
        "\n",
        "PRINT_EVERY = 100\n",
        "\n",
        "SAVE_MODEL = False\n",
        "\n",
        "R_MEAN = 0.4914\n",
        "G_MEAN = 0.4822\n",
        "B_MEAN = 0.4465\n",
        "R_STD = 0.2023\n",
        "G_STD = 0.1994\n",
        "B_STD = 0.2010\n",
        "\n",
        "# Use GPU if available\n",
        "device = torch.device('cpu')\n",
        "if torch.cuda.is_available():\n",
        "    device = torch.device('cuda')\n",
        "print(device)"
      ],
      "execution_count": 2,
      "outputs": [
        {
          "output_type": "stream",
          "text": [
            "cuda\n"
          ],
          "name": "stdout"
        }
      ]
    },
    {
      "cell_type": "code",
      "metadata": {
        "id": "VhatBOlNfd2b"
      },
      "source": [
        "# Set random seed for replicating testing results\n",
        "np.random.seed(0)\n",
        "torch.manual_seed(0)\n",
        "if torch.cuda.is_available():\n",
        "    torch.cuda.manual_seed(0)"
      ],
      "execution_count": 3,
      "outputs": []
    },
    {
      "cell_type": "code",
      "metadata": {
        "id": "r3Lwdw_OE4c6"
      },
      "source": [
        "# Normalise the dataset\n",
        "transform = T.Compose([\n",
        "                T.ToTensor(),\n",
        "                T.Normalize((R_MEAN, G_MEAN, B_MEAN), (R_STD, G_STD, B_STD))\n",
        "            ])\n",
        "# Augement and normalise the dataset\n",
        "transform_aug = T.Compose([\n",
        "                  T.RandomCrop(32, padding=4),\n",
        "                  T.RandomHorizontalFlip(p=0.5),\n",
        "                  T.ToTensor(),\n",
        "                  T.Normalize((R_MEAN, G_MEAN, B_MEAN), (R_STD, G_STD, B_STD))\n",
        "                ])"
      ],
      "execution_count": 4,
      "outputs": []
    },
    {
      "cell_type": "code",
      "metadata": {
        "id": "PGVSNIkHE4c9",
        "outputId": "f90670f1-c6b2-4e1f-e63c-f131bd83c578",
        "colab": {
          "base_uri": "https://localhost:8080/",
          "height": 117,
          "referenced_widgets": [
            "d06187153002451e918621fa875eae90",
            "a8037daf45b141d7a7718cbba64e23e7",
            "d93f84c1308e46b29d7c51e4386528ec",
            "7318dbc086c94e6787c529870b9069f5",
            "6009971997754a7ca1060467b45be55c",
            "d840ce2cb72a46c3a32b810f04f6d7a0",
            "a563a0788c894aceb36744a2e456b33a",
            "20e786134e9b4a5f8c99cb9d31745585"
          ]
        }
      },
      "source": [
        "# Load CIFAR10\n",
        "training_dataset   = torchvision.datasets.CIFAR10('data/', train=True,  transform=transform_aug, download=True)\n",
        "validation_dataset = torchvision.datasets.CIFAR10('data/', train=True,  transform=transform, download=True)\n",
        "testing_dataset    = torchvision.datasets.CIFAR10('data/', train=False, transform=transform, download=True)\n",
        "\n",
        "\n",
        "# Create dataloaders\n",
        "training_data   = DataLoader(training_dataset,   batch_size=BATCH_SIZE, shuffle=False, sampler=SubsetRandomSampler(range(NUM_TRAIN)))\n",
        "validation_data = DataLoader(validation_dataset, batch_size=BATCH_SIZE, shuffle=False, sampler=SubsetRandomSampler(range(NUM_TRAIN,50000)))\n",
        "testing_data    = DataLoader(testing_dataset,    batch_size=BATCH_SIZE, shuffle=False)"
      ],
      "execution_count": 5,
      "outputs": [
        {
          "output_type": "stream",
          "text": [
            "Downloading https://www.cs.toronto.edu/~kriz/cifar-10-python.tar.gz to data/cifar-10-python.tar.gz\n"
          ],
          "name": "stdout"
        },
        {
          "output_type": "display_data",
          "data": {
            "application/vnd.jupyter.widget-view+json": {
              "model_id": "d06187153002451e918621fa875eae90",
              "version_minor": 0,
              "version_major": 2
            },
            "text/plain": [
              "HBox(children=(FloatProgress(value=1.0, bar_style='info', max=1.0), HTML(value='')))"
            ]
          },
          "metadata": {
            "tags": []
          }
        },
        {
          "output_type": "stream",
          "text": [
            "Extracting data/cifar-10-python.tar.gz to data/\n",
            "Files already downloaded and verified\n",
            "Files already downloaded and verified\n"
          ],
          "name": "stdout"
        }
      ]
    },
    {
      "cell_type": "code",
      "metadata": {
        "id": "NDc1Z0ydE4dA"
      },
      "source": [
        "class MyModel(nn.Module):\n",
        "    def __init__(self, no_classes=10):\n",
        "        super(MyModel, self).__init__()\n",
        "        \n",
        "        self.network = nn.Sequential(\n",
        "                        nn.Conv2d(3,    32, kernel_size=3, stride=1, padding=1),\n",
        "                        nn.BatchNorm2d(32),\n",
        "                        nn.ReLU(inplace=True),\n",
        "            \n",
        "                        nn.Conv2d(32,   32, kernel_size=3, stride=1, padding=1),\n",
        "                        nn.BatchNorm2d(32),\n",
        "                        nn.ReLU(inplace=True),\n",
        "            \n",
        "                        nn.Conv2d(32,  64, kernel_size=3, stride=2, padding=1),\n",
        "                        nn.BatchNorm2d(64),\n",
        "                        nn.ReLU(inplace=True),\n",
        "            \n",
        "                        nn.Conv2d(64, 128, kernel_size=3, stride=2, padding=1),\n",
        "                        nn.BatchNorm2d(128),\n",
        "                        nn.ReLU(inplace=True),\n",
        "            \n",
        "                        nn.Conv2d(128, 256, kernel_size=3, stride=2, padding=1),\n",
        "                        nn.BatchNorm2d(256),\n",
        "                        nn.ReLU(inplace=True),\n",
        "            \n",
        "                        nn.AvgPool2d(kernel_size=4),\n",
        "            \n",
        "                        nn.Flatten(),\n",
        "                        nn.Linear(in_features=256, out_features=no_classes, bias=True)\n",
        "                       )\n",
        "        \n",
        "    def forward(self, x):\n",
        "        return self.network(x)"
      ],
      "execution_count": 6,
      "outputs": []
    },
    {
      "cell_type": "code",
      "metadata": {
        "id": "tUef4brzfd2k"
      },
      "source": [
        "class MyModel2(nn.Module):\n",
        "    def __init__(self, no_classes=10):\n",
        "        super(MyModel2, self).__init__()\n",
        "        \n",
        "        self.network = nn.Sequential(\n",
        "                        nn.Conv2d(3,    32, kernel_size=3, stride=1, padding=1),\n",
        "                        nn.BatchNorm2d(32),\n",
        "                        nn.ReLU(inplace=True),\n",
        "                        nn.Dropout(p=0.2),\n",
        "            \n",
        "                        nn.Conv2d(32,   32, kernel_size=3, stride=1, padding=1),\n",
        "                        nn.BatchNorm2d(32),\n",
        "                        nn.ReLU(inplace=True),\n",
        "                        nn.Dropout(p=0.2),\n",
        "            \n",
        "                        nn.Conv2d(32,  64, kernel_size=3, stride=2, padding=1),\n",
        "                        nn.BatchNorm2d(64),\n",
        "                        nn.ReLU(inplace=True),\n",
        "                        nn.Dropout(p=0.2),\n",
        "            \n",
        "                        nn.Conv2d(64, 128, kernel_size=3, stride=2, padding=1),\n",
        "                        nn.BatchNorm2d(128),\n",
        "                        nn.ReLU(inplace=True),\n",
        "                        nn.Dropout(p=0.2),\n",
        "            \n",
        "                        nn.Conv2d(128, 256, kernel_size=3, stride=2, padding=1),\n",
        "                        nn.BatchNorm2d(256),\n",
        "                        nn.ReLU(inplace=True),\n",
        "                        nn.Dropout(p=0.2),\n",
        "            \n",
        "                        nn.AvgPool2d(kernel_size=4),\n",
        "            \n",
        "                        nn.Flatten(),\n",
        "                        nn.Linear(in_features=256, out_features=no_classes, bias=True)\n",
        "                       )\n",
        "        \n",
        "    def forward(self, x):\n",
        "        return self.network(x)"
      ],
      "execution_count": 14,
      "outputs": []
    },
    {
      "cell_type": "code",
      "metadata": {
        "id": "FeetUgvgE4dE"
      },
      "source": [
        "def loss_function(preds, y):\n",
        "    return F.cross_entropy(preds,y)"
      ],
      "execution_count": 15,
      "outputs": []
    },
    {
      "cell_type": "code",
      "metadata": {
        "id": "GAO9bo-0E4dG"
      },
      "source": [
        "def evaluate(model):\n",
        "    model.eval()\n",
        "    with torch.no_grad():\n",
        "      correct_preds = 0\n",
        "      total_preds = 0\n",
        "\n",
        "      for x_test,y_test in testing_data:\n",
        "        x_test = x_test.to(device=device, dtype=torch.float32)\n",
        "        y_test = y_test.to(device=device, dtype=torch.long)\n",
        "\n",
        "        results = model(x_test)\n",
        "        _,preds = results.max(1)\n",
        "\n",
        "        correct_preds += (preds == y_test).sum()\n",
        "        total_preds += preds.size(0)\n",
        "\n",
        "      acc = 100.0 * correct_preds / total_preds\n",
        "\n",
        "      print('Correctly predicted: {}/{}, with accuracy={:.2f}%'.format(correct_preds,total_preds,acc))"
      ],
      "execution_count": 16,
      "outputs": []
    },
    {
      "cell_type": "code",
      "metadata": {
        "id": "VkkowCwWQW3i"
      },
      "source": [
        "# Keep track training losses\n",
        "valid_losses = [[],[]]\n",
        "\n",
        "def validate(model, idx):\n",
        "  model.eval()\n",
        "\n",
        "  loss = []\n",
        "  with torch.no_grad():\n",
        "    for x_validate,y_validate in validation_data:\n",
        "      x_validate = x_validate.to(device=device, dtype=torch.float32)\n",
        "      y_validate = y_validate.to(device=device, dtype=torch.long)\n",
        "\n",
        "      preds = model(x_validate)\n",
        "\n",
        "      loss.append(loss_function(preds, y_validate).item())\n",
        "\n",
        "    valid_losses[idx].append(np.mean(loss))"
      ],
      "execution_count": 17,
      "outputs": []
    },
    {
      "cell_type": "code",
      "metadata": {
        "id": "5VWW-ElKE4dI"
      },
      "source": [
        "# Keep track training losses\n",
        "train_losses = [[],[]]\n",
        "\n",
        "def training(model, model2, optimiser, optimiser2):\n",
        "    for epoch in range(EPOCHS):\n",
        "        for idx,(x_train,y_train) in enumerate(training_data):\n",
        "            model.train()\n",
        "            model2.train()\n",
        "\n",
        "            x_train = x_train.to(device=device, dtype=torch.float32)\n",
        "            y_train = y_train.to(device=device, dtype=torch.long)\n",
        "\n",
        "            preds  = model(x_train)\n",
        "            preds2 = model2(x_train)\n",
        "\n",
        "            loss  = loss_function(preds, y_train)\n",
        "            loss2 = loss_function(preds2, y_train)\n",
        "\n",
        "            optimiser.zero_grad()\n",
        "            optimiser2.zero_grad()\n",
        "\n",
        "            loss.backward()\n",
        "            loss2.backward()\n",
        "\n",
        "            optimiser.step()\n",
        "            optimiser2.step()\n",
        "\n",
        "            if idx % PRINT_EVERY == 0:\n",
        "                print('Epoch: %d, iteration %d, loss=%.3f, loss2=%.3f' % (epoch, idx, loss.item(), loss2.item()))\n",
        "                train_losses[0].append(loss.item())\n",
        "                train_losses[1].append(loss2.item())\n",
        "\n",
        "                validate(model,  0)\n",
        "                validate(model2, 1)"
      ],
      "execution_count": 18,
      "outputs": []
    },
    {
      "cell_type": "code",
      "metadata": {
        "id": "jVE4_adGE4dK"
      },
      "source": [
        "model = MyModel()\n",
        "model.to(device=device)\n",
        "model2 = MyModel2()\n",
        "model2.to(device=device)\n",
        "\n",
        "optimiser = optim.Adam(model.parameters())\n",
        "optimiser2 = optim.Adam(model2.parameters())"
      ],
      "execution_count": 19,
      "outputs": []
    },
    {
      "cell_type": "code",
      "metadata": {
        "id": "eGl1ZrE9E4dL",
        "outputId": "0afc8e4a-984e-4663-90ab-72cde84c698e",
        "colab": {
          "base_uri": "https://localhost:8080/",
          "height": 1000
        }
      },
      "source": [
        "training(model, model2, optimiser, optimiser2)\n",
        "\n",
        "# save the model\n",
        "if SAVE_MODEL:\n",
        "    torch.save(model.state_dict(), 'model.pt')\n",
        "    torch.save(model2.state_dict(), 'model2.pt')"
      ],
      "execution_count": 20,
      "outputs": [
        {
          "output_type": "stream",
          "text": [
            "Epoch: 0, iteration 0, loss=2.277, loss2=2.329\n",
            "Epoch: 0, iteration 100, loss=1.619, loss2=1.677\n",
            "Epoch: 0, iteration 200, loss=1.508, loss2=1.481\n",
            "Epoch: 0, iteration 300, loss=1.533, loss2=1.610\n",
            "Epoch: 0, iteration 400, loss=1.320, loss2=1.401\n",
            "Epoch: 0, iteration 500, loss=1.250, loss2=1.338\n",
            "Epoch: 0, iteration 600, loss=1.333, loss2=1.524\n",
            "Epoch: 0, iteration 700, loss=1.207, loss2=1.296\n",
            "Epoch: 1, iteration 0, loss=0.998, loss2=1.064\n",
            "Epoch: 1, iteration 100, loss=1.356, loss2=1.398\n",
            "Epoch: 1, iteration 200, loss=0.979, loss2=1.166\n",
            "Epoch: 1, iteration 300, loss=0.973, loss2=1.093\n",
            "Epoch: 1, iteration 400, loss=0.985, loss2=1.127\n",
            "Epoch: 1, iteration 500, loss=0.932, loss2=1.139\n",
            "Epoch: 1, iteration 600, loss=1.179, loss2=1.337\n",
            "Epoch: 1, iteration 700, loss=0.842, loss2=1.029\n",
            "Epoch: 2, iteration 0, loss=0.849, loss2=1.015\n",
            "Epoch: 2, iteration 100, loss=1.024, loss2=1.119\n",
            "Epoch: 2, iteration 200, loss=0.930, loss2=1.104\n",
            "Epoch: 2, iteration 300, loss=0.971, loss2=1.138\n",
            "Epoch: 2, iteration 400, loss=0.784, loss2=0.901\n",
            "Epoch: 2, iteration 500, loss=1.073, loss2=1.176\n",
            "Epoch: 2, iteration 600, loss=0.982, loss2=1.102\n",
            "Epoch: 2, iteration 700, loss=0.975, loss2=1.134\n",
            "Epoch: 3, iteration 0, loss=0.961, loss2=1.055\n",
            "Epoch: 3, iteration 100, loss=0.856, loss2=0.928\n",
            "Epoch: 3, iteration 200, loss=0.732, loss2=0.910\n",
            "Epoch: 3, iteration 300, loss=1.088, loss2=1.147\n",
            "Epoch: 3, iteration 400, loss=0.805, loss2=0.986\n",
            "Epoch: 3, iteration 500, loss=0.761, loss2=0.742\n",
            "Epoch: 3, iteration 600, loss=0.807, loss2=0.947\n",
            "Epoch: 3, iteration 700, loss=0.758, loss2=0.864\n",
            "Epoch: 4, iteration 0, loss=0.761, loss2=0.950\n",
            "Epoch: 4, iteration 100, loss=0.778, loss2=0.896\n",
            "Epoch: 4, iteration 200, loss=0.812, loss2=0.911\n",
            "Epoch: 4, iteration 300, loss=0.744, loss2=0.787\n",
            "Epoch: 4, iteration 400, loss=0.677, loss2=0.977\n",
            "Epoch: 4, iteration 500, loss=0.867, loss2=1.050\n",
            "Epoch: 4, iteration 600, loss=0.822, loss2=0.958\n",
            "Epoch: 4, iteration 700, loss=0.911, loss2=0.894\n",
            "Epoch: 5, iteration 0, loss=0.663, loss2=0.878\n",
            "Epoch: 5, iteration 100, loss=0.583, loss2=0.830\n",
            "Epoch: 5, iteration 200, loss=0.765, loss2=0.920\n",
            "Epoch: 5, iteration 300, loss=0.427, loss2=0.540\n",
            "Epoch: 5, iteration 400, loss=0.666, loss2=0.888\n",
            "Epoch: 5, iteration 500, loss=0.781, loss2=0.835\n",
            "Epoch: 5, iteration 600, loss=0.617, loss2=0.750\n",
            "Epoch: 5, iteration 700, loss=0.756, loss2=0.832\n",
            "Epoch: 6, iteration 0, loss=0.660, loss2=0.896\n",
            "Epoch: 6, iteration 100, loss=0.792, loss2=1.017\n",
            "Epoch: 6, iteration 200, loss=0.842, loss2=0.816\n",
            "Epoch: 6, iteration 300, loss=0.770, loss2=0.955\n",
            "Epoch: 6, iteration 400, loss=0.829, loss2=1.007\n",
            "Epoch: 6, iteration 500, loss=0.524, loss2=0.770\n",
            "Epoch: 6, iteration 600, loss=0.626, loss2=0.791\n",
            "Epoch: 6, iteration 700, loss=0.721, loss2=0.933\n",
            "Epoch: 7, iteration 0, loss=0.704, loss2=0.870\n",
            "Epoch: 7, iteration 100, loss=0.770, loss2=0.933\n",
            "Epoch: 7, iteration 200, loss=0.697, loss2=0.697\n",
            "Epoch: 7, iteration 300, loss=0.834, loss2=0.946\n",
            "Epoch: 7, iteration 400, loss=0.736, loss2=0.992\n",
            "Epoch: 7, iteration 500, loss=0.706, loss2=0.913\n",
            "Epoch: 7, iteration 600, loss=0.678, loss2=0.855\n",
            "Epoch: 7, iteration 700, loss=0.545, loss2=0.701\n",
            "Epoch: 8, iteration 0, loss=0.734, loss2=1.086\n",
            "Epoch: 8, iteration 100, loss=0.647, loss2=0.738\n",
            "Epoch: 8, iteration 200, loss=0.826, loss2=0.953\n",
            "Epoch: 8, iteration 300, loss=0.348, loss2=0.486\n",
            "Epoch: 8, iteration 400, loss=0.407, loss2=0.606\n",
            "Epoch: 8, iteration 500, loss=0.597, loss2=0.755\n",
            "Epoch: 8, iteration 600, loss=0.655, loss2=0.854\n",
            "Epoch: 8, iteration 700, loss=0.710, loss2=0.889\n",
            "Epoch: 9, iteration 0, loss=0.551, loss2=0.791\n",
            "Epoch: 9, iteration 100, loss=0.613, loss2=0.759\n",
            "Epoch: 9, iteration 200, loss=0.809, loss2=0.975\n",
            "Epoch: 9, iteration 300, loss=0.655, loss2=0.928\n",
            "Epoch: 9, iteration 400, loss=0.619, loss2=0.778\n",
            "Epoch: 9, iteration 500, loss=0.659, loss2=0.972\n",
            "Epoch: 9, iteration 600, loss=0.472, loss2=0.575\n",
            "Epoch: 9, iteration 700, loss=0.462, loss2=0.651\n"
          ],
          "name": "stdout"
        }
      ]
    },
    {
      "cell_type": "code",
      "metadata": {
        "id": "5lm3la0lE4dN",
        "outputId": "2a0c09b2-a6b3-46bf-fe71-2f5fe9ee86c2",
        "colab": {
          "base_uri": "https://localhost:8080/",
          "height": 313
        }
      },
      "source": [
        "evaluate(model)\n",
        "evaluate(model2)\n",
        "\n",
        "plt.plot(train_losses[0], 'b')\n",
        "plt.plot(train_losses[1], 'c')\n",
        "plt.plot(valid_losses[0], 'r')\n",
        "plt.plot(valid_losses[1], 'm')\n",
        "plt.xlabel('Iteration')\n",
        "plt.ylabel('Loss')\n",
        "plt.legend(['Train loss','Train loss with dropout','Validation loss','Validation loss with dropout'])\n",
        "plt.show()"
      ],
      "execution_count": 21,
      "outputs": [
        {
          "output_type": "stream",
          "text": [
            "Correctly predicted: 7528/10000, with accuracy=75.28%\n",
            "Correctly predicted: 7239/10000, with accuracy=72.39%\n"
          ],
          "name": "stdout"
        },
        {
          "output_type": "display_data",
          "data": {
            "image/png": "[encoded data removed]",
            "text/plain": [
              "<Figure size 432x288 with 1 Axes>"
            ]
          },
          "metadata": {
            "tags": [],
            "needs_background": "light"
          }
        }
      ]
    }
  ]
}