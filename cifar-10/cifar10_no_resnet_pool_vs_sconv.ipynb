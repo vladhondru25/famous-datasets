{
  "nbformat": 4,
  "nbformat_minor": 0,
  "metadata": {
    "accelerator": "GPU",
    "colab": {
      "name": "cifar10_no_resnet_pool_vs_sconv.ipynb",
      "provenance": [],
      "collapsed_sections": []
    },
    "kernelspec": {
      "display_name": "Python 3",
      "language": "python",
      "name": "python3"
    },
    "language_info": {
      "codemirror_mode": {
        "name": "ipython",
        "version": 3
      },
      "file_extension": ".py",
      "mimetype": "text/x-python",
      "name": "python",
      "nbconvert_exporter": "python",
      "pygments_lexer": "ipython3",
      "version": "3.7.9"
    },
    "widgets": {
      "application/vnd.jupyter.widget-state+json": {
        "623ba90af02e4737a914e642e77999db": {
          "model_module": "@jupyter-widgets/controls",
          "model_name": "HBoxModel",
          "state": {
            "_view_name": "HBoxView",
            "_dom_classes": [],
            "_model_name": "HBoxModel",
            "_view_module": "@jupyter-widgets/controls",
            "_model_module_version": "1.5.0",
            "_view_count": null,
            "_view_module_version": "1.5.0",
            "box_style": "",
            "layout": "IPY_MODEL_f3416fe755194e7fbca26b8c65c2b5e1",
            "_model_module": "@jupyter-widgets/controls",
            "children": [
              "IPY_MODEL_3ebb29fc5c4e41bfbcda835c61414f31",
              "IPY_MODEL_ad37fbeb4adf4283a3c66e9d318b3449"
            ]
          }
        },
        "f3416fe755194e7fbca26b8c65c2b5e1": {
          "model_module": "@jupyter-widgets/base",
          "model_name": "LayoutModel",
          "state": {
            "_view_name": "LayoutView",
            "grid_template_rows": null,
            "right": null,
            "justify_content": null,
            "_view_module": "@jupyter-widgets/base",
            "overflow": null,
            "_model_module_version": "1.2.0",
            "_view_count": null,
            "flex_flow": null,
            "width": null,
            "min_width": null,
            "border": null,
            "align_items": null,
            "bottom": null,
            "_model_module": "@jupyter-widgets/base",
            "top": null,
            "grid_column": null,
            "overflow_y": null,
            "overflow_x": null,
            "grid_auto_flow": null,
            "grid_area": null,
            "grid_template_columns": null,
            "flex": null,
            "_model_name": "LayoutModel",
            "justify_items": null,
            "grid_row": null,
            "max_height": null,
            "align_content": null,
            "visibility": null,
            "align_self": null,
            "height": null,
            "min_height": null,
            "padding": null,
            "grid_auto_rows": null,
            "grid_gap": null,
            "max_width": null,
            "order": null,
            "_view_module_version": "1.2.0",
            "grid_template_areas": null,
            "object_position": null,
            "object_fit": null,
            "grid_auto_columns": null,
            "margin": null,
            "display": null,
            "left": null
          }
        },
        "3ebb29fc5c4e41bfbcda835c61414f31": {
          "model_module": "@jupyter-widgets/controls",
          "model_name": "FloatProgressModel",
          "state": {
            "_view_name": "ProgressView",
            "style": "IPY_MODEL_438e0604b6bf4c11b9872364da354297",
            "_dom_classes": [],
            "description": "",
            "_model_name": "FloatProgressModel",
            "bar_style": "info",
            "max": 1,
            "_view_module": "@jupyter-widgets/controls",
            "_model_module_version": "1.5.0",
            "value": 1,
            "_view_count": null,
            "_view_module_version": "1.5.0",
            "orientation": "horizontal",
            "min": 0,
            "description_tooltip": null,
            "_model_module": "@jupyter-widgets/controls",
            "layout": "IPY_MODEL_de4a1b2b93cd4cdf8ff58d949341c0f1"
          }
        },
        "ad37fbeb4adf4283a3c66e9d318b3449": {
          "model_module": "@jupyter-widgets/controls",
          "model_name": "HTMLModel",
          "state": {
            "_view_name": "HTMLView",
            "style": "IPY_MODEL_aff73a7c56bd47e08d94d3abcd46cabb",
            "_dom_classes": [],
            "description": "",
            "_model_name": "HTMLModel",
            "placeholder": "​",
            "_view_module": "@jupyter-widgets/controls",
            "_model_module_version": "1.5.0",
            "value": " 170500096/? [00:30&lt;00:00, 13569332.55it/s]",
            "_view_count": null,
            "_view_module_version": "1.5.0",
            "description_tooltip": null,
            "_model_module": "@jupyter-widgets/controls",
            "layout": "IPY_MODEL_5c9a06e6e5824ea8a4c7c3bd6efff66e"
          }
        },
        "438e0604b6bf4c11b9872364da354297": {
          "model_module": "@jupyter-widgets/controls",
          "model_name": "ProgressStyleModel",
          "state": {
            "_view_name": "StyleView",
            "_model_name": "ProgressStyleModel",
            "description_width": "initial",
            "_view_module": "@jupyter-widgets/base",
            "_model_module_version": "1.5.0",
            "_view_count": null,
            "_view_module_version": "1.2.0",
            "bar_color": null,
            "_model_module": "@jupyter-widgets/controls"
          }
        },
        "de4a1b2b93cd4cdf8ff58d949341c0f1": {
          "model_module": "@jupyter-widgets/base",
          "model_name": "LayoutModel",
          "state": {
            "_view_name": "LayoutView",
            "grid_template_rows": null,
            "right": null,
            "justify_content": null,
            "_view_module": "@jupyter-widgets/base",
            "overflow": null,
            "_model_module_version": "1.2.0",
            "_view_count": null,
            "flex_flow": null,
            "width": null,
            "min_width": null,
            "border": null,
            "align_items": null,
            "bottom": null,
            "_model_module": "@jupyter-widgets/base",
            "top": null,
            "grid_column": null,
            "overflow_y": null,
            "overflow_x": null,
            "grid_auto_flow": null,
            "grid_area": null,
            "grid_template_columns": null,
            "flex": null,
            "_model_name": "LayoutModel",
            "justify_items": null,
            "grid_row": null,
            "max_height": null,
            "align_content": null,
            "visibility": null,
            "align_self": null,
            "height": null,
            "min_height": null,
            "padding": null,
            "grid_auto_rows": null,
            "grid_gap": null,
            "max_width": null,
            "order": null,
            "_view_module_version": "1.2.0",
            "grid_template_areas": null,
            "object_position": null,
            "object_fit": null,
            "grid_auto_columns": null,
            "margin": null,
            "display": null,
            "left": null
          }
        },
        "aff73a7c56bd47e08d94d3abcd46cabb": {
          "model_module": "@jupyter-widgets/controls",
          "model_name": "DescriptionStyleModel",
          "state": {
            "_view_name": "StyleView",
            "_model_name": "DescriptionStyleModel",
            "description_width": "",
            "_view_module": "@jupyter-widgets/base",
            "_model_module_version": "1.5.0",
            "_view_count": null,
            "_view_module_version": "1.2.0",
            "_model_module": "@jupyter-widgets/controls"
          }
        },
        "5c9a06e6e5824ea8a4c7c3bd6efff66e": {
          "model_module": "@jupyter-widgets/base",
          "model_name": "LayoutModel",
          "state": {
            "_view_name": "LayoutView",
            "grid_template_rows": null,
            "right": null,
            "justify_content": null,
            "_view_module": "@jupyter-widgets/base",
            "overflow": null,
            "_model_module_version": "1.2.0",
            "_view_count": null,
            "flex_flow": null,
            "width": null,
            "min_width": null,
            "border": null,
            "align_items": null,
            "bottom": null,
            "_model_module": "@jupyter-widgets/base",
            "top": null,
            "grid_column": null,
            "overflow_y": null,
            "overflow_x": null,
            "grid_auto_flow": null,
            "grid_area": null,
            "grid_template_columns": null,
            "flex": null,
            "_model_name": "LayoutModel",
            "justify_items": null,
            "grid_row": null,
            "max_height": null,
            "align_content": null,
            "visibility": null,
            "align_self": null,
            "height": null,
            "min_height": null,
            "padding": null,
            "grid_auto_rows": null,
            "grid_gap": null,
            "max_width": null,
            "order": null,
            "_view_module_version": "1.2.0",
            "grid_template_areas": null,
            "object_position": null,
            "object_fit": null,
            "grid_auto_columns": null,
            "margin": null,
            "display": null,
            "left": null
          }
        }
      }
    }
  },
  "cells": [
    {
      "cell_type": "code",
      "metadata": {
        "id": "nIRsffnlE4c0"
      },
      "source": [
        "import torch\n",
        "import torch.nn as nn\n",
        "import torchvision.datasets\n",
        "import torch.optim as optim\n",
        "import torch.nn.functional as F\n",
        "import torchvision.transforms as T\n",
        "from torch.utils.data import SubsetRandomSampler, DataLoader\n",
        "import numpy as np\n",
        "import matplotlib.pyplot as plt"
      ],
      "execution_count": 1,
      "outputs": []
    },
    {
      "cell_type": "code",
      "metadata": {
        "id": "NR5SKbaoE4c3",
        "outputId": "b6268395-53a3-41dc-989b-c0b8f1c15fe3",
        "colab": {
          "base_uri": "https://localhost:8080/",
          "height": 34
        }
      },
      "source": [
        "# Hyperparameters and constants\n",
        "BATCH_SIZE = 64\n",
        "NUM_TRAIN = 49000\n",
        "EPOCHS = 10\n",
        "\n",
        "PRINT_EVERY = 100\n",
        "\n",
        "SAVE_MODEL = False\n",
        "\n",
        "R_MEAN = 0.4914\n",
        "G_MEAN = 0.4822\n",
        "B_MEAN = 0.4465\n",
        "R_STD = 0.2023\n",
        "G_STD = 0.1994\n",
        "B_STD = 0.2010\n",
        "\n",
        "# Use GPU if available\n",
        "device = torch.device('cpu')\n",
        "if torch.cuda.is_available():\n",
        "    device = torch.device('cuda')\n",
        "print(device)"
      ],
      "execution_count": 2,
      "outputs": [
        {
          "output_type": "stream",
          "text": [
            "cuda\n"
          ],
          "name": "stdout"
        }
      ]
    },
    {
      "cell_type": "code",
      "metadata": {
        "id": "VhatBOlNfd2b"
      },
      "source": [
        "# Set random seed for replicating testing results\n",
        "np.random.seed(0)\n",
        "torch.manual_seed(0)\n",
        "if torch.cuda.is_available():\n",
        "    torch.cuda.manual_seed(0)"
      ],
      "execution_count": 3,
      "outputs": []
    },
    {
      "cell_type": "code",
      "metadata": {
        "id": "r3Lwdw_OE4c6"
      },
      "source": [
        "# Normalise the dataset\n",
        "transform = T.Compose([\n",
        "                T.ToTensor(),\n",
        "                T.Normalize((R_MEAN, G_MEAN, B_MEAN), (R_STD, G_STD, B_STD))\n",
        "            ])\n",
        "# Augement and normalise the dataset\n",
        "transform_aug = T.Compose([\n",
        "                  T.RandomCrop(32, padding=4),\n",
        "                  T.RandomHorizontalFlip(p=0.5),\n",
        "                  T.ToTensor(),\n",
        "                  T.Normalize((R_MEAN, G_MEAN, B_MEAN), (R_STD, G_STD, B_STD))\n",
        "                ])"
      ],
      "execution_count": 4,
      "outputs": []
    },
    {
      "cell_type": "code",
      "metadata": {
        "id": "PGVSNIkHE4c9",
        "outputId": "ab048eca-2238-4201-a227-600195116ad6",
        "colab": {
          "base_uri": "https://localhost:8080/",
          "height": 117,
          "referenced_widgets": [
            "623ba90af02e4737a914e642e77999db",
            "f3416fe755194e7fbca26b8c65c2b5e1",
            "3ebb29fc5c4e41bfbcda835c61414f31",
            "ad37fbeb4adf4283a3c66e9d318b3449",
            "438e0604b6bf4c11b9872364da354297",
            "de4a1b2b93cd4cdf8ff58d949341c0f1",
            "aff73a7c56bd47e08d94d3abcd46cabb",
            "5c9a06e6e5824ea8a4c7c3bd6efff66e"
          ]
        }
      },
      "source": [
        "# Load CIFAR10\n",
        "training_dataset   = torchvision.datasets.CIFAR10('data/', train=True,  transform=transform_aug, download=True)\n",
        "validation_dataset = torchvision.datasets.CIFAR10('data/', train=True,  transform=transform, download=True)\n",
        "testing_dataset    = torchvision.datasets.CIFAR10('data/', train=False, transform=transform, download=True)\n",
        "\n",
        "\n",
        "# Create dataloaders\n",
        "training_data   = DataLoader(training_dataset,   batch_size=BATCH_SIZE, shuffle=False, sampler=SubsetRandomSampler(range(NUM_TRAIN)))\n",
        "validation_data = DataLoader(validation_dataset, batch_size=BATCH_SIZE, shuffle=False, sampler=SubsetRandomSampler(range(NUM_TRAIN,50000)))\n",
        "testing_data    = DataLoader(testing_dataset,    batch_size=BATCH_SIZE, shuffle=False)"
      ],
      "execution_count": 5,
      "outputs": [
        {
          "output_type": "stream",
          "text": [
            "Downloading https://www.cs.toronto.edu/~kriz/cifar-10-python.tar.gz to data/cifar-10-python.tar.gz\n"
          ],
          "name": "stdout"
        },
        {
          "output_type": "display_data",
          "data": {
            "application/vnd.jupyter.widget-view+json": {
              "model_id": "623ba90af02e4737a914e642e77999db",
              "version_minor": 0,
              "version_major": 2
            },
            "text/plain": [
              "HBox(children=(FloatProgress(value=1.0, bar_style='info', max=1.0), HTML(value='')))"
            ]
          },
          "metadata": {
            "tags": []
          }
        },
        {
          "output_type": "stream",
          "text": [
            "Extracting data/cifar-10-python.tar.gz to data/\n",
            "Files already downloaded and verified\n",
            "Files already downloaded and verified\n"
          ],
          "name": "stdout"
        }
      ]
    },
    {
      "cell_type": "code",
      "metadata": {
        "id": "NDc1Z0ydE4dA"
      },
      "source": [
        "class MyModel(nn.Module):\n",
        "    def __init__(self, no_classes=10):\n",
        "        super(MyModel, self).__init__()\n",
        "        \n",
        "        self.network = nn.Sequential(\n",
        "                        nn.Conv2d(3,    32, kernel_size=3, stride=1, padding=1),\n",
        "                        nn.BatchNorm2d(32),\n",
        "                        nn.ReLU(inplace=True),\n",
        "            \n",
        "                        nn.Conv2d(32,   32, kernel_size=3, stride=1, padding=1),\n",
        "                        nn.BatchNorm2d(32),\n",
        "                        nn.ReLU(inplace=True),\n",
        "            \n",
        "                        nn.Conv2d(32,  64, kernel_size=3, stride=2, padding=1),\n",
        "                        nn.BatchNorm2d(64),\n",
        "                        nn.ReLU(inplace=True),\n",
        "            \n",
        "                        nn.Conv2d(64, 128, kernel_size=3, stride=2, padding=1),\n",
        "                        nn.BatchNorm2d(128),\n",
        "                        nn.ReLU(inplace=True),\n",
        "            \n",
        "                        nn.Conv2d(128, 256, kernel_size=3, stride=2, padding=1),\n",
        "                        nn.BatchNorm2d(256),\n",
        "                        nn.ReLU(inplace=True),\n",
        "            \n",
        "                        nn.AvgPool2d(kernel_size=4),\n",
        "            \n",
        "                        nn.Flatten(),\n",
        "                        nn.Linear(in_features=256, out_features=no_classes, bias=True)\n",
        "                       )\n",
        "        \n",
        "    def forward(self, x):\n",
        "        return self.network(x)"
      ],
      "execution_count": 6,
      "outputs": []
    },
    {
      "cell_type": "code",
      "metadata": {
        "id": "tUef4brzfd2k"
      },
      "source": [
        "class MyModel2(nn.Module):\n",
        "    def __init__(self, no_classes=10):\n",
        "        super(MyModel2, self).__init__()\n",
        "        \n",
        "        self.network = nn.Sequential(\n",
        "                        nn.Conv2d(3,    32, kernel_size=3, stride=1, padding=1),\n",
        "                        nn.BatchNorm2d(32),\n",
        "                        nn.ReLU(inplace=True),\n",
        "            \n",
        "                        nn.Conv2d(32,   32, kernel_size=3, stride=1, padding=1),\n",
        "                        nn.BatchNorm2d(32),\n",
        "                        nn.ReLU(inplace=True),\n",
        "            \n",
        "                        nn.Conv2d(32,  64, kernel_size=3, stride=1, padding=1),\n",
        "                        nn.MaxPool2d(kernel_size=2),\n",
        "                        nn.BatchNorm2d(64),\n",
        "                        nn.ReLU(inplace=True),\n",
        "            \n",
        "                        nn.Conv2d(64, 128, kernel_size=3, stride=1, padding=1),\n",
        "                        nn.MaxPool2d(kernel_size=2),\n",
        "                        nn.BatchNorm2d(128),\n",
        "                        nn.ReLU(inplace=True),\n",
        "            \n",
        "                        nn.Conv2d(128, 256, kernel_size=3, stride=1, padding=1),\n",
        "                        nn.MaxPool2d(kernel_size=2),\n",
        "                        nn.BatchNorm2d(256),\n",
        "                        nn.ReLU(inplace=True),\n",
        "            \n",
        "                        nn.AvgPool2d(kernel_size=4),\n",
        "            \n",
        "                        nn.Flatten(),\n",
        "                        nn.Linear(in_features=256, out_features=no_classes, bias=True)\n",
        "                       )\n",
        "        \n",
        "    def forward(self, x):\n",
        "        return self.network(x)"
      ],
      "execution_count": 7,
      "outputs": []
    },
    {
      "cell_type": "code",
      "metadata": {
        "id": "FeetUgvgE4dE"
      },
      "source": [
        "def loss_function(preds, y):\n",
        "    return F.cross_entropy(preds,y)"
      ],
      "execution_count": 8,
      "outputs": []
    },
    {
      "cell_type": "code",
      "metadata": {
        "id": "GAO9bo-0E4dG"
      },
      "source": [
        "def evaluate(model):\n",
        "    model.eval()\n",
        "    with torch.no_grad():\n",
        "      correct_preds = 0\n",
        "      total_preds = 0\n",
        "\n",
        "      for x_test,y_test in testing_data:\n",
        "        x_test = x_test.to(device=device, dtype=torch.float32)\n",
        "        y_test = y_test.to(device=device, dtype=torch.long)\n",
        "\n",
        "        results = model(x_test)\n",
        "        _,preds = results.max(1)\n",
        "\n",
        "        correct_preds += (preds == y_test).sum()\n",
        "        total_preds += preds.size(0)\n",
        "\n",
        "      acc = 100.0 * correct_preds / total_preds\n",
        "\n",
        "      print('Correctly predicted: {}/{}, with accuracy={:.2f}%'.format(correct_preds,total_preds,acc))"
      ],
      "execution_count": 9,
      "outputs": []
    },
    {
      "cell_type": "code",
      "metadata": {
        "id": "VkkowCwWQW3i"
      },
      "source": [
        "# Keep track training losses\n",
        "valid_losses = [[],[]]\n",
        "\n",
        "def validate(model, idx):\n",
        "  model.eval()\n",
        "\n",
        "  loss = []\n",
        "  with torch.no_grad():\n",
        "    for x_validate,y_validate in validation_data:\n",
        "      x_validate = x_validate.to(device=device, dtype=torch.float32)\n",
        "      y_validate = y_validate.to(device=device, dtype=torch.long)\n",
        "\n",
        "      preds = model(x_validate)\n",
        "\n",
        "      loss.append(loss_function(preds, y_validate).item())\n",
        "\n",
        "    valid_losses[idx].append(np.mean(loss))"
      ],
      "execution_count": 10,
      "outputs": []
    },
    {
      "cell_type": "code",
      "metadata": {
        "id": "5VWW-ElKE4dI"
      },
      "source": [
        "# Keep track training losses\n",
        "train_losses = [[],[]]\n",
        "\n",
        "def training(model, model2, optimiser, optimiser2):\n",
        "    for epoch in range(EPOCHS):\n",
        "        for idx,(x_train,y_train) in enumerate(training_data):\n",
        "            model.train()\n",
        "            model2.train()\n",
        "\n",
        "            x_train = x_train.to(device=device, dtype=torch.float32)\n",
        "            y_train = y_train.to(device=device, dtype=torch.long)\n",
        "\n",
        "            preds  = model(x_train)\n",
        "            preds2 = model2(x_train)\n",
        "\n",
        "            loss  = loss_function(preds, y_train)\n",
        "            loss2 = loss_function(preds2, y_train)\n",
        "\n",
        "            optimiser.zero_grad()\n",
        "            optimiser2.zero_grad()\n",
        "\n",
        "            loss.backward()\n",
        "            loss2.backward()\n",
        "\n",
        "            optimiser.step()\n",
        "            optimiser2.step()\n",
        "\n",
        "            if idx % PRINT_EVERY == 0:\n",
        "                print('Epoch: %d, iteration %d, loss=%.3f, loss2=%.3f' % (epoch, idx, loss.item(), loss2.item()))\n",
        "                train_losses[0].append(loss.item())\n",
        "                train_losses[1].append(loss2.item())\n",
        "\n",
        "                validate(model,  0)\n",
        "                validate(model2, 1)"
      ],
      "execution_count": 17,
      "outputs": []
    },
    {
      "cell_type": "code",
      "metadata": {
        "id": "jVE4_adGE4dK"
      },
      "source": [
        "model = MyModel()\n",
        "model.to(device=device)\n",
        "model2 = MyModel2()\n",
        "model2.to(device=device)\n",
        "\n",
        "optimiser = optim.Adam(model.parameters())\n",
        "optimiser2 = optim.Adam(model2.parameters())"
      ],
      "execution_count": 18,
      "outputs": []
    },
    {
      "cell_type": "code",
      "metadata": {
        "id": "eGl1ZrE9E4dL",
        "outputId": "7269645a-1090-4d77-c1f7-05e3f613939e",
        "colab": {
          "base_uri": "https://localhost:8080/",
          "height": 1000
        }
      },
      "source": [
        "training(model, model2, optimiser, optimiser2)\n",
        "\n",
        "# save the model\n",
        "if SAVE_MODEL:\n",
        "    torch.save(model.state_dict(), 'model.pt')\n",
        "    torch.save(model2.state_dict(), 'model2.pt')"
      ],
      "execution_count": 19,
      "outputs": [
        {
          "output_type": "stream",
          "text": [
            "Epoch: 0, iteration 0, loss=2.339, loss2=2.366\n",
            "Epoch: 0, iteration 100, loss=1.555, loss2=1.372\n",
            "Epoch: 0, iteration 200, loss=1.659, loss2=1.472\n",
            "Epoch: 0, iteration 300, loss=1.332, loss2=1.107\n",
            "Epoch: 0, iteration 400, loss=1.236, loss2=1.104\n",
            "Epoch: 0, iteration 500, loss=1.431, loss2=1.178\n",
            "Epoch: 0, iteration 600, loss=1.292, loss2=1.151\n",
            "Epoch: 0, iteration 700, loss=1.527, loss2=1.295\n",
            "Epoch: 1, iteration 0, loss=0.972, loss2=0.764\n",
            "Epoch: 1, iteration 100, loss=1.025, loss2=0.789\n",
            "Epoch: 1, iteration 200, loss=1.291, loss2=1.029\n",
            "Epoch: 1, iteration 300, loss=1.164, loss2=0.970\n",
            "Epoch: 1, iteration 400, loss=1.102, loss2=0.855\n",
            "Epoch: 1, iteration 500, loss=1.065, loss2=0.789\n",
            "Epoch: 1, iteration 600, loss=1.126, loss2=0.949\n",
            "Epoch: 1, iteration 700, loss=1.004, loss2=0.688\n",
            "Epoch: 2, iteration 0, loss=1.082, loss2=0.755\n",
            "Epoch: 2, iteration 100, loss=1.034, loss2=0.883\n",
            "Epoch: 2, iteration 200, loss=1.246, loss2=0.838\n",
            "Epoch: 2, iteration 300, loss=1.012, loss2=0.632\n",
            "Epoch: 2, iteration 400, loss=0.723, loss2=0.461\n",
            "Epoch: 2, iteration 500, loss=1.189, loss2=0.924\n",
            "Epoch: 2, iteration 600, loss=0.836, loss2=0.625\n",
            "Epoch: 2, iteration 700, loss=0.726, loss2=0.434\n",
            "Epoch: 3, iteration 0, loss=1.021, loss2=0.699\n",
            "Epoch: 3, iteration 100, loss=0.779, loss2=0.590\n",
            "Epoch: 3, iteration 200, loss=0.957, loss2=0.581\n",
            "Epoch: 3, iteration 300, loss=0.557, loss2=0.313\n",
            "Epoch: 3, iteration 400, loss=0.628, loss2=0.520\n",
            "Epoch: 3, iteration 500, loss=0.849, loss2=0.706\n",
            "Epoch: 3, iteration 600, loss=0.683, loss2=0.474\n",
            "Epoch: 3, iteration 700, loss=0.898, loss2=0.546\n",
            "Epoch: 4, iteration 0, loss=0.948, loss2=0.683\n",
            "Epoch: 4, iteration 100, loss=0.780, loss2=0.494\n",
            "Epoch: 4, iteration 200, loss=0.829, loss2=0.438\n",
            "Epoch: 4, iteration 300, loss=0.610, loss2=0.546\n",
            "Epoch: 4, iteration 400, loss=0.816, loss2=0.541\n",
            "Epoch: 4, iteration 500, loss=0.758, loss2=0.378\n",
            "Epoch: 4, iteration 600, loss=0.626, loss2=0.475\n",
            "Epoch: 4, iteration 700, loss=0.781, loss2=0.441\n",
            "Epoch: 5, iteration 0, loss=1.031, loss2=0.611\n",
            "Epoch: 5, iteration 100, loss=0.880, loss2=0.596\n",
            "Epoch: 5, iteration 200, loss=0.783, loss2=0.635\n",
            "Epoch: 5, iteration 300, loss=0.548, loss2=0.395\n",
            "Epoch: 5, iteration 400, loss=0.706, loss2=0.446\n",
            "Epoch: 5, iteration 500, loss=0.730, loss2=0.495\n",
            "Epoch: 5, iteration 600, loss=0.594, loss2=0.349\n",
            "Epoch: 5, iteration 700, loss=0.788, loss2=0.449\n",
            "Epoch: 6, iteration 0, loss=0.518, loss2=0.291\n",
            "Epoch: 6, iteration 100, loss=0.915, loss2=0.450\n",
            "Epoch: 6, iteration 200, loss=0.547, loss2=0.299\n",
            "Epoch: 6, iteration 300, loss=0.605, loss2=0.466\n",
            "Epoch: 6, iteration 400, loss=0.465, loss2=0.383\n",
            "Epoch: 6, iteration 500, loss=0.650, loss2=0.431\n",
            "Epoch: 6, iteration 600, loss=0.666, loss2=0.456\n",
            "Epoch: 6, iteration 700, loss=0.812, loss2=0.551\n",
            "Epoch: 7, iteration 0, loss=0.673, loss2=0.468\n",
            "Epoch: 7, iteration 100, loss=0.814, loss2=0.559\n",
            "Epoch: 7, iteration 200, loss=0.645, loss2=0.486\n",
            "Epoch: 7, iteration 300, loss=0.608, loss2=0.395\n",
            "Epoch: 7, iteration 400, loss=0.686, loss2=0.304\n",
            "Epoch: 7, iteration 500, loss=0.540, loss2=0.435\n",
            "Epoch: 7, iteration 600, loss=0.848, loss2=0.547\n",
            "Epoch: 7, iteration 700, loss=0.612, loss2=0.380\n",
            "Epoch: 8, iteration 0, loss=0.612, loss2=0.314\n",
            "Epoch: 8, iteration 100, loss=0.643, loss2=0.345\n",
            "Epoch: 8, iteration 200, loss=0.513, loss2=0.214\n",
            "Epoch: 8, iteration 300, loss=0.889, loss2=0.579\n",
            "Epoch: 8, iteration 400, loss=0.819, loss2=0.460\n",
            "Epoch: 8, iteration 500, loss=0.769, loss2=0.543\n",
            "Epoch: 8, iteration 600, loss=0.442, loss2=0.218\n",
            "Epoch: 8, iteration 700, loss=0.699, loss2=0.544\n",
            "Epoch: 9, iteration 0, loss=0.469, loss2=0.237\n",
            "Epoch: 9, iteration 100, loss=0.450, loss2=0.321\n",
            "Epoch: 9, iteration 200, loss=0.519, loss2=0.341\n",
            "Epoch: 9, iteration 300, loss=0.604, loss2=0.411\n",
            "Epoch: 9, iteration 400, loss=0.616, loss2=0.360\n",
            "Epoch: 9, iteration 500, loss=0.805, loss2=0.386\n",
            "Epoch: 9, iteration 600, loss=0.483, loss2=0.378\n",
            "Epoch: 9, iteration 700, loss=0.564, loss2=0.365\n"
          ],
          "name": "stdout"
        }
      ]
    },
    {
      "cell_type": "code",
      "metadata": {
        "id": "5lm3la0lE4dN",
        "outputId": "c255c76d-9369-4074-e9e1-d8140a06f9ab",
        "colab": {
          "base_uri": "https://localhost:8080/",
          "height": 313
        }
      },
      "source": [
        "evaluate(model)\n",
        "evaluate(model2)\n",
        "\n",
        "plt.plot(train_losses[0], 'b')\n",
        "plt.plot(train_losses[1], 'c')\n",
        "plt.plot(valid_losses[0], 'r')\n",
        "plt.plot(valid_losses[1], 'm')\n",
        "plt.xlabel('Iteration')\n",
        "plt.ylabel('Loss')\n",
        "plt.legend(['Train loss strided conv','Train loss max pool','Validation loss strided conv','Validation loss max pool'])\n",
        "plt.show()"
      ],
      "execution_count": 20,
      "outputs": [
        {
          "output_type": "stream",
          "text": [
            "Correctly predicted: 7503/10000, with accuracy=75.03%\n",
            "Correctly predicted: 8209/10000, with accuracy=82.09%\n"
          ],
          "name": "stdout"
        },
        {
          "output_type": "display_data",
          "data": {
            "image/png": "[encoded data removed]",
            "text/plain": [
              "<Figure size 432x288 with 1 Axes>"
            ]
          },
          "metadata": {
            "tags": [],
            "needs_background": "light"
          }
        }
      ]
    }
  ]
}