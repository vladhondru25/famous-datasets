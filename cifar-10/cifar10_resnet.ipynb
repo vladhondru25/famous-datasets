{
  "nbformat": 4,
  "nbformat_minor": 0,
  "metadata": {
    "kernelspec": {
      "display_name": "Python 3",
      "language": "python",
      "name": "python3"
    },
    "language_info": {
      "codemirror_mode": {
        "name": "ipython",
        "version": 3
      },
      "file_extension": ".py",
      "mimetype": "text/x-python",
      "name": "python",
      "nbconvert_exporter": "python",
      "pygments_lexer": "ipython3",
      "version": "3.7.9"
    },
    "colab": {
      "name": "cifar10-resnet.ipynb",
      "provenance": [],
      "collapsed_sections": []
    },
    "accelerator": "GPU"
  },
  "cells": [
    {
      "cell_type": "code",
      "metadata": {
        "id": "nIRsffnlE4c0"
      },
      "source": [
        "import torch\n",
        "import torch.nn as nn\n",
        "import torchvision.datasets\n",
        "import torch.optim as optim\n",
        "import torch.nn.functional as F\n",
        "import torchvision.transforms as T\n",
        "from torch.utils.data import SubsetRandomSampler, DataLoader\n",
        "import numpy as np\n",
        "import matplotlib.pyplot as plt"
      ],
      "execution_count": 15,
      "outputs": []
    },
    {
      "cell_type": "code",
      "metadata": {
        "id": "NR5SKbaoE4c3",
        "outputId": "3d158cd7-7391-43a2-cef8-050629a417c1",
        "colab": {
          "base_uri": "https://localhost:8080/"
        }
      },
      "source": [
        "# Hyperparameters and constants\n",
        "BATCH_SIZE = 64\n",
        "NUM_TRAIN = 49000\n",
        "EPOCHS = 10\n",
        "\n",
        "PRINT_EVERY = 100\n",
        "\n",
        "SAVE_MODEL = True\n",
        "\n",
        "R_MEAN = 0.4914\n",
        "G_MEAN = 0.4822\n",
        "B_MEAN = 0.4465\n",
        "R_STD = 0.2023\n",
        "G_STD = 0.1994\n",
        "B_STD = 0.2010\n",
        "\n",
        "# Use GPU if available\n",
        "device = torch.device('cpu')\n",
        "if torch.cuda.is_available():\n",
        "    device = torch.device('cuda')\n",
        "print(device)"
      ],
      "execution_count": 16,
      "outputs": [
        {
          "output_type": "stream",
          "text": [
            "cuda\n"
          ],
          "name": "stdout"
        }
      ]
    },
    {
      "cell_type": "code",
      "metadata": {
        "id": "r3Lwdw_OE4c6"
      },
      "source": [
        "# Normalise the dataset\n",
        "transform = T.Compose([\n",
        "                T.ToTensor(),\n",
        "                T.Normalize((R_MEAN, G_MEAN, B_MEAN), (R_STD, G_STD, B_STD))\n",
        "            ])\n",
        "# Augement and normalise the dataset\n",
        "transform_aug = T.Compose([\n",
        "                  T.RandomCrop(32, padding=4),\n",
        "                  T.RandomHorizontalFlip(p=0.5),\n",
        "                  T.ToTensor(),\n",
        "                  T.Normalize((R_MEAN, G_MEAN, B_MEAN), (R_STD, G_STD, B_STD))\n",
        "                ])"
      ],
      "execution_count": 17,
      "outputs": []
    },
    {
      "cell_type": "code",
      "metadata": {
        "id": "PGVSNIkHE4c9",
        "outputId": "b4a96958-5a45-4a31-db0d-94ad47593dd2",
        "colab": {
          "base_uri": "https://localhost:8080/"
        }
      },
      "source": [
        "# Load CIFAR10\n",
        "training_dataset   = torchvision.datasets.CIFAR10('data/', train=True,  transform=transform_aug, download=True)\n",
        "validation_dataset = torchvision.datasets.CIFAR10('data/', train=True,  transform=transform, download=True)\n",
        "testing_dataset    = torchvision.datasets.CIFAR10('data/', train=False, transform=transform, download=True)\n",
        "\n",
        "\n",
        "# Create dataloaders\n",
        "training_data   = DataLoader(training_dataset,   batch_size=BATCH_SIZE, shuffle=False, sampler=SubsetRandomSampler(range(NUM_TRAIN)))\n",
        "validation_data = DataLoader(validation_dataset, batch_size=BATCH_SIZE, shuffle=False, sampler=SubsetRandomSampler(range(NUM_TRAIN,50000)))\n",
        "testing_data    = DataLoader(testing_dataset,    batch_size=BATCH_SIZE, shuffle=False)"
      ],
      "execution_count": 18,
      "outputs": [
        {
          "output_type": "stream",
          "text": [
            "Files already downloaded and verified\n",
            "Files already downloaded and verified\n",
            "Files already downloaded and verified\n"
          ],
          "name": "stdout"
        }
      ]
    },
    {
      "cell_type": "code",
      "metadata": {
        "id": "i6kdyQNKE4c_"
      },
      "source": [
        "class ResidualBlock(nn.Module):\n",
        "    def __init__(self, in_c=64, out_c=64, stride=1):\n",
        "        super(ResidualBlock, self).__init__()\n",
        "        \n",
        "        self.conv1 = nn.Sequential(\n",
        "                        nn.Conv2d(in_channels=in_c,  out_channels=out_c, kernel_size=3, padding=1, stride=stride, bias=False),\n",
        "                        nn.BatchNorm2d(out_c))\n",
        "        self.conv2 = nn.Sequential(\n",
        "                        nn.Conv2d(in_channels=out_c, out_channels=out_c, kernel_size=3, padding=1, stride=1,      bias=False),\n",
        "                        nn.BatchNorm2d(out_c))\n",
        "        \n",
        "        self.shortcut = nn.Identity()\n",
        "        if stride > 1 or in_c != out_c:\n",
        "            self.shortcut = nn.Sequential(\n",
        "                                nn.Conv2d(in_channels=in_c, out_channels=out_c, kernel_size=1, padding=0, stride=stride, bias=False),\n",
        "                                nn.BatchNorm2d(out_c))\n",
        "            \n",
        "        self.activation = nn.ReLU(inplace=True)\n",
        "        \n",
        "    def forward(self, x):\n",
        "        z1 = self.activation(self.conv1(x))\n",
        "        z2 = self.conv2(z1) + self.shortcut(x)\n",
        "        return self.activation(z2)"
      ],
      "execution_count": 19,
      "outputs": []
    },
    {
      "cell_type": "code",
      "metadata": {
        "id": "NDc1Z0ydE4dA"
      },
      "source": [
        "class ResNet18(nn.Module):\n",
        "    def __init__(self, no_classes=10):\n",
        "        super(ResNet18, self).__init__()\n",
        "        \n",
        "        self.conv1 = nn.Sequential(\n",
        "                        nn.Conv2d(in_channels=3, out_channels=64, kernel_size=3, padding=1, stride=1, bias=False),\n",
        "                        nn.BatchNorm2d(64),\n",
        "                        nn.ReLU(inplace=True))\n",
        "        \n",
        "        # Used to keep track of the previous numbers of channels\n",
        "        self.prev_channels = 64\n",
        "        \n",
        "        self.res_layer1 = self._create_res_layer(out_c=128, stride=1, no_blocks=2)\n",
        "        self.res_layer2 = self._create_res_layer(out_c=256, stride=2, no_blocks=2)\n",
        "        self.res_layer3 = self._create_res_layer(out_c=512, stride=2, no_blocks=2)\n",
        "        self.res_layer4 = self._create_res_layer(out_c=512, stride=2, no_blocks=2)\n",
        "        \n",
        "        self.pooling = nn.AvgPool2d(kernel_size=4)\n",
        "        \n",
        "        self.fc = nn.Sequential(\n",
        "                    nn.Flatten(),\n",
        "                    nn.Linear(in_features=512, out_features=no_classes, bias=True))\n",
        "        \n",
        "        self.relu = nn.ReLU(inplace=True)\n",
        "        \n",
        "    def _create_res_layer(self, out_c, stride, no_blocks):\n",
        "        interim_layers = []\n",
        "        \n",
        "        strides = [stride] + [1]*(no_blocks-1)\n",
        "        for s in strides:\n",
        "            interim_layers.append(ResidualBlock(in_c=self.prev_channels, out_c=out_c, stride=s))\n",
        "            self.prev_channels = out_c\n",
        "        \n",
        "        return nn.Sequential(*interim_layers)\n",
        "        \n",
        "    def forward(self, x):\n",
        "        \n",
        "        x = self.conv1(x)\n",
        "        \n",
        "        x = self.res_layer1(x)\n",
        "        x = self.res_layer2(x)\n",
        "        x = self.res_layer3(x)\n",
        "        x = self.res_layer4(x)\n",
        "        \n",
        "        x = self.pooling(x)\n",
        "        \n",
        "        return self.fc(x)"
      ],
      "execution_count": 20,
      "outputs": []
    },
    {
      "cell_type": "code",
      "metadata": {
        "id": "FeetUgvgE4dE"
      },
      "source": [
        "def loss_function(preds, y):\n",
        "    return F.cross_entropy(preds,y)"
      ],
      "execution_count": 21,
      "outputs": []
    },
    {
      "cell_type": "code",
      "metadata": {
        "id": "GAO9bo-0E4dG"
      },
      "source": [
        "def evaluate(model):\n",
        "    model.eval()\n",
        "    with torch.no_grad():\n",
        "      correct_preds = 0\n",
        "      total_preds = 0\n",
        "\n",
        "      for x_test,y_test in testing_data:\n",
        "        x_test = x_test.to(device=device, dtype=torch.float32)\n",
        "        y_test = y_test.to(device=device, dtype=torch.long)\n",
        "\n",
        "        results = model(x_test)\n",
        "        _,preds = results.max(1)\n",
        "\n",
        "        correct_preds += (preds == y_test).sum()\n",
        "        total_preds += preds.size(0)\n",
        "\n",
        "      acc = 100.0 * correct_preds / total_preds\n",
        "\n",
        "      print('Correctly predicted: {}/{}, with accuracy={:.2f}%'.format(correct_preds,total_preds,acc))"
      ],
      "execution_count": 22,
      "outputs": []
    },
    {
      "cell_type": "code",
      "metadata": {
        "id": "VkkowCwWQW3i"
      },
      "source": [
        "# Keep track training losses\n",
        "valid_losses = []\n",
        "\n",
        "def validate(model):\n",
        "  model.eval()\n",
        "\n",
        "  loss = []\n",
        "  with torch.no_grad():\n",
        "    for x_validate,y_validate in validation_data:\n",
        "      x_validate = x_validate.to(device=device, dtype=torch.float32)\n",
        "      y_validate = y_validate.to(device=device, dtype=torch.long)\n",
        "\n",
        "      preds = model(x_validate)\n",
        "\n",
        "      loss.append(loss_function(preds, y_validate).item())\n",
        "\n",
        "    valid_losses.append(np.mean(loss))"
      ],
      "execution_count": 23,
      "outputs": []
    },
    {
      "cell_type": "code",
      "metadata": {
        "id": "5VWW-ElKE4dI"
      },
      "source": [
        "# Keep track training losses\n",
        "train_losses = []\n",
        "\n",
        "def training(model, optimiser):\n",
        "    for epoch in range(EPOCHS):\n",
        "        for idx,(x_train,y_train) in enumerate(training_data):\n",
        "            model.train()\n",
        "\n",
        "            x_train = x_train.to(device=device, dtype=torch.float32)\n",
        "            y_train = y_train.to(device=device, dtype=torch.long)\n",
        "\n",
        "            preds = model(x_train)\n",
        "\n",
        "            loss = loss_function(preds, y_train)\n",
        "\n",
        "            optimiser.zero_grad()\n",
        "\n",
        "            loss.backward()\n",
        "\n",
        "            optimiser.step()\n",
        "\n",
        "            if idx % PRINT_EVERY == 0:\n",
        "                print('Epoch: %d, iteration %d, loss=%.3f' % (epoch, idx, loss.item()))\n",
        "                train_losses.append(loss.item())\n",
        "\n",
        "                validate(model)"
      ],
      "execution_count": 24,
      "outputs": []
    },
    {
      "cell_type": "code",
      "metadata": {
        "id": "jVE4_adGE4dK"
      },
      "source": [
        "model = ResNet18()\n",
        "model.to(device=device)\n",
        "\n",
        "optimiser = optim.Adam(model.parameters())"
      ],
      "execution_count": 25,
      "outputs": []
    },
    {
      "cell_type": "code",
      "metadata": {
        "id": "eGl1ZrE9E4dL",
        "outputId": "d0719688-323e-4563-c5b1-bedf1f5b7806",
        "colab": {
          "base_uri": "https://localhost:8080/"
        }
      },
      "source": [
        "training(model, optimiser)\n",
        "\n",
        "# save the model\n",
        "if SAVE_MODEL:\n",
        "    torch.save(model.state_dict(), 'model.pt')"
      ],
      "execution_count": 26,
      "outputs": [
        {
          "output_type": "stream",
          "text": [
            "Epoch: 0, iteration 0, loss=2.447\n",
            "Epoch: 0, iteration 100, loss=1.609\n",
            "Epoch: 0, iteration 200, loss=1.702\n",
            "Epoch: 0, iteration 300, loss=1.391\n",
            "Epoch: 0, iteration 400, loss=1.599\n",
            "Epoch: 0, iteration 500, loss=1.363\n",
            "Epoch: 0, iteration 600, loss=1.443\n",
            "Epoch: 0, iteration 700, loss=1.204\n",
            "Epoch: 1, iteration 0, loss=1.275\n",
            "Epoch: 1, iteration 100, loss=1.244\n",
            "Epoch: 1, iteration 200, loss=1.147\n",
            "Epoch: 1, iteration 300, loss=0.806\n",
            "Epoch: 1, iteration 400, loss=1.268\n",
            "Epoch: 1, iteration 500, loss=0.898\n",
            "Epoch: 1, iteration 600, loss=0.904\n",
            "Epoch: 1, iteration 700, loss=1.006\n",
            "Epoch: 2, iteration 0, loss=0.847\n",
            "Epoch: 2, iteration 100, loss=1.054\n",
            "Epoch: 2, iteration 200, loss=0.878\n",
            "Epoch: 2, iteration 300, loss=0.878\n",
            "Epoch: 2, iteration 400, loss=0.557\n",
            "Epoch: 2, iteration 500, loss=0.794\n",
            "Epoch: 2, iteration 600, loss=0.794\n",
            "Epoch: 2, iteration 700, loss=0.636\n",
            "Epoch: 3, iteration 0, loss=0.711\n",
            "Epoch: 3, iteration 100, loss=0.828\n",
            "Epoch: 3, iteration 200, loss=0.650\n",
            "Epoch: 3, iteration 300, loss=0.732\n",
            "Epoch: 3, iteration 400, loss=0.834\n",
            "Epoch: 3, iteration 500, loss=0.736\n",
            "Epoch: 3, iteration 600, loss=0.538\n",
            "Epoch: 3, iteration 700, loss=0.611\n",
            "Epoch: 4, iteration 0, loss=0.707\n",
            "Epoch: 4, iteration 100, loss=0.636\n",
            "Epoch: 4, iteration 200, loss=0.597\n",
            "Epoch: 4, iteration 300, loss=0.791\n",
            "Epoch: 4, iteration 400, loss=0.470\n",
            "Epoch: 4, iteration 500, loss=0.656\n",
            "Epoch: 4, iteration 600, loss=0.398\n",
            "Epoch: 4, iteration 700, loss=0.753\n",
            "Epoch: 5, iteration 0, loss=0.362\n",
            "Epoch: 5, iteration 100, loss=0.529\n",
            "Epoch: 5, iteration 200, loss=0.739\n",
            "Epoch: 5, iteration 300, loss=0.473\n",
            "Epoch: 5, iteration 400, loss=0.407\n",
            "Epoch: 5, iteration 500, loss=0.554\n",
            "Epoch: 5, iteration 600, loss=0.331\n",
            "Epoch: 5, iteration 700, loss=0.398\n",
            "Epoch: 6, iteration 0, loss=0.450\n",
            "Epoch: 6, iteration 100, loss=0.529\n",
            "Epoch: 6, iteration 200, loss=0.497\n",
            "Epoch: 6, iteration 300, loss=0.770\n",
            "Epoch: 6, iteration 400, loss=0.397\n",
            "Epoch: 6, iteration 500, loss=0.467\n",
            "Epoch: 6, iteration 600, loss=0.298\n",
            "Epoch: 6, iteration 700, loss=0.467\n",
            "Epoch: 7, iteration 0, loss=0.426\n",
            "Epoch: 7, iteration 100, loss=0.552\n",
            "Epoch: 7, iteration 200, loss=0.466\n",
            "Epoch: 7, iteration 300, loss=0.262\n",
            "Epoch: 7, iteration 400, loss=0.374\n",
            "Epoch: 7, iteration 500, loss=0.286\n",
            "Epoch: 7, iteration 600, loss=0.350\n",
            "Epoch: 7, iteration 700, loss=0.476\n",
            "Epoch: 8, iteration 0, loss=0.509\n",
            "Epoch: 8, iteration 100, loss=0.380\n",
            "Epoch: 8, iteration 200, loss=0.339\n",
            "Epoch: 8, iteration 300, loss=0.369\n",
            "Epoch: 8, iteration 400, loss=0.217\n",
            "Epoch: 8, iteration 500, loss=0.453\n",
            "Epoch: 8, iteration 600, loss=0.454\n",
            "Epoch: 8, iteration 700, loss=0.365\n",
            "Epoch: 9, iteration 0, loss=0.208\n",
            "Epoch: 9, iteration 100, loss=0.233\n",
            "Epoch: 9, iteration 200, loss=0.280\n",
            "Epoch: 9, iteration 300, loss=0.168\n",
            "Epoch: 9, iteration 400, loss=0.478\n",
            "Epoch: 9, iteration 500, loss=0.272\n",
            "Epoch: 9, iteration 600, loss=0.199\n",
            "Epoch: 9, iteration 700, loss=0.438\n"
          ],
          "name": "stdout"
        }
      ]
    },
    {
      "cell_type": "code",
      "metadata": {
        "id": "5lm3la0lE4dN",
        "outputId": "b1b1a148-b456-4a72-bd83-fdc632386851",
        "colab": {
          "base_uri": "https://localhost:8080/",
          "height": 296
        }
      },
      "source": [
        "evaluate(model)\n",
        "\n",
        "plt.plot(train_losses, 'b')\n",
        "plt.plot(valid_losses, 'r')\n",
        "plt.xlabel('Iteration')\n",
        "plt.ylabel('Loss')\n",
        "plt.legend(['Train loss','Validation loss'])\n",
        "plt.show()"
      ],
      "execution_count": 27,
      "outputs": [
        {
          "output_type": "stream",
          "text": [
            "Correctly predicted: 8776/10000, with accuracy=87.76%\n"
          ],
          "name": "stdout"
        },
        {
          "output_type": "display_data",
          "data": {
            "image/png": "[encoded data removed]",
            "text/plain": [
              "<Figure size 432x288 with 1 Axes>"
            ]
          },
          "metadata": {
            "tags": [],
            "needs_background": "light"
          }
        }
      ]
    }
  ]
}