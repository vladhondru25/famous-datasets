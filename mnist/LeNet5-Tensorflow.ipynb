{
 "cells": [
  {
   "cell_type": "code",
   "execution_count": 21,
   "metadata": {},
   "outputs": [],
   "source": [
    "import tensorflow as tf\n",
    "import tensorflow_datasets as tfds"
   ]
  },
  {
   "cell_type": "code",
   "execution_count": 49,
   "metadata": {},
   "outputs": [],
   "source": [
    "# Load MNIST dataset\n",
    "mnist_ds = tf.keras.datasets.mnist\n",
    "\n",
    "(x_train, y_train), (x_test, y_test) = mnist_ds.load_data()\n",
    "# Normalise dataset\n",
    "x_train, x_test = x_train / 255.0, x_test / 255.0\n",
    "\n",
    "# Add the dimenison to tensors that serve as the channel\n",
    "x_train = x_train[..., tf.newaxis].astype(\"float32\")\n",
    "x_test = x_test[..., tf.newaxis].astype(\"float32\")"
   ]
  },
  {
   "cell_type": "code",
   "execution_count": 50,
   "metadata": {},
   "outputs": [],
   "source": [
    "# Define the LeNet architecture\n",
    "class LeNet(tf.keras.Model):\n",
    "    def __init__(self):\n",
    "        super(LeNet, self).__init__()\n",
    "        \n",
    "        self.lenet = tf.keras.models.Sequential([\n",
    "            tf.keras.layers.Conv2D(filters=6,  kernel_size=(5,5), padding='same',  activation='relu'),\n",
    "            tf.keras.layers.MaxPool2D(),\n",
    "            tf.keras.layers.Conv2D(filters=16, kernel_size=(5,5), padding='valid', activation='relu'),\n",
    "            tf.keras.layers.MaxPool2D(),\n",
    "            tf.keras.layers.Flatten(),\n",
    "            tf.keras.layers.Dense(120, activation='relu'),\n",
    "            tf.keras.layers.Dense(84,  activation='relu'),\n",
    "            tf.keras.layers.Dense(10,  activation='softmax')\n",
    "        ])\n",
    "        \n",
    "    def call(self, inputs):\n",
    "        return self.lenet(inputs)"
   ]
  },
  {
   "cell_type": "code",
   "execution_count": 52,
   "metadata": {},
   "outputs": [
    {
     "name": "stdout",
     "output_type": "stream",
     "text": [
      "Epoch 1/3\n",
      "938/938 - 11s - loss: 1.6818 - accuracy: 0.7860 - val_loss: 1.5895 - val_accuracy: 0.8729\n",
      "Epoch 2/3\n",
      "938/938 - 11s - loss: 1.5272 - accuracy: 0.9353 - val_loss: 1.4853 - val_accuracy: 0.9768\n",
      "Epoch 3/3\n",
      "938/938 - 10s - loss: 1.4849 - accuracy: 0.9774 - val_loss: 1.4814 - val_accuracy: 0.9799\n"
     ]
    },
    {
     "data": {
      "text/plain": [
       "<tensorflow.python.keras.callbacks.History at 0x14f2b4110>"
      ]
     },
     "execution_count": 52,
     "metadata": {},
     "output_type": "execute_result"
    }
   ],
   "source": [
    "lenet = LeNet()\n",
    "lenet.compile(optimizer='Adam', loss=tf.keras.losses.SparseCategoricalCrossentropy(from_logits=True), metrics=['accuracy'])\n",
    "\n",
    "# Train the model\n",
    "lenet.fit(x=x_train, y=y_train,\n",
    "          batch_size=64, \n",
    "          epochs=3,\n",
    "          validation_data=(x_test,y_test),\n",
    "          verbose=2)"
   ]
  },
  {
   "cell_type": "code",
   "execution_count": 69,
   "metadata": {},
   "outputs": [
    {
     "name": "stdout",
     "output_type": "stream",
     "text": [
      "Accuracy = 97.99%\n"
     ]
    }
   ],
   "source": [
    "# Evaluate the model\n",
    "predictions = lenet(x_test, training=False)\n",
    "\n",
    "acc_funct = tf.keras.metrics.SparseCategoricalAccuracy(name='test_accuracy')\n",
    "acc_funct(y_test,predictions)\n",
    "print('Accuracy = %.2f%%' % (acc_funct.result() * 100))"
   ]
  }
 ],
 "metadata": {
  "kernelspec": {
   "display_name": "Python 3",
   "language": "python",
   "name": "python3"
  },
  "language_info": {
   "codemirror_mode": {
    "name": "ipython",
    "version": 3
   },
   "file_extension": ".py",
   "mimetype": "text/x-python",
   "name": "python",
   "nbconvert_exporter": "python",
   "pygments_lexer": "ipython3",
   "version": "3.7.7"
  }
 },
 "nbformat": 4,
 "nbformat_minor": 4
}
