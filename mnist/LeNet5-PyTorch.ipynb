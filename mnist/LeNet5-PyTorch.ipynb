{
 "cells": [
  {
   "cell_type": "code",
   "execution_count": 91,
   "metadata": {},
   "outputs": [],
   "source": [
    "import numpy as np\n",
    "import matplotlib.pyplot as plt\n",
    "\n",
    "import torch\n",
    "import torch.nn as nn\n",
    "import torch.nn.functional as F\n",
    "import torch.optim as optim\n",
    "from torch.utils.data import Dataset, DataLoader, sampler\n",
    "from torchvision import datasets, transforms"
   ]
  },
  {
   "cell_type": "code",
   "execution_count": 92,
   "metadata": {},
   "outputs": [],
   "source": [
    "# Define the hyperparameters\n",
    "LEARNING_RATE = 1e-3\n",
    "BATCH_SIZE = 64\n",
    "EPOCHS = 3"
   ]
  },
  {
   "cell_type": "code",
   "execution_count": 93,
   "metadata": {},
   "outputs": [
    {
     "name": "stdout",
     "output_type": "stream",
     "text": [
      "Using GPU: False\n"
     ]
    }
   ],
   "source": [
    "use_cuda = torch.cuda.is_available()\n",
    "device = torch.device('cuda' if use_cuda else 'cpu')\n",
    "print(\"Using GPU: {}\".format(use_cuda))"
   ]
  },
  {
   "cell_type": "code",
   "execution_count": 94,
   "metadata": {},
   "outputs": [],
   "source": [
    "# Set seed during training for reproducibility\n",
    "# torch.manual_seed(0)\n",
    "# if use_cuda:\n",
    "#     torch.cuda.manual_seed(0)"
   ]
  },
  {
   "cell_type": "code",
   "execution_count": 95,
   "metadata": {},
   "outputs": [],
   "source": [
    "# Get MNIST data\n",
    "train_dat = datasets.MNIST(\"data/\", train=True, transform=transforms.ToTensor(), download=True)#, transform=transform)\n",
    "test_dat = datasets.MNIST(\"data/\", transform=transforms.ToTensor(), train=False)#, transform=transform)\n",
    "# train_dat[index][0] -> Image\n",
    "# train_dat[index][1] -> Label"
   ]
  },
  {
   "cell_type": "code",
   "execution_count": 96,
   "metadata": {},
   "outputs": [],
   "source": [
    "# Create the dataloaders for iterating over the datasets\n",
    "train_loader = DataLoader(train_dat, batch_size=BATCH_SIZE, shuffle=True)\n",
    "test_loader = DataLoader(test_dat, batch_size=BATCH_SIZE, shuffle=False)\n",
    "# Add validation set and sampler"
   ]
  },
  {
   "cell_type": "code",
   "execution_count": 97,
   "metadata": {},
   "outputs": [],
   "source": [
    "# Note: Maximum pooling is used, unlike the original architecture where average pooling is used\n",
    "class LeNet5(nn.Module):\n",
    "    def __init__(self):\n",
    "        super().__init__()\n",
    "        self.lenet = nn.Sequential(\n",
    "                        nn.Conv2d(in_channels=1, out_channels=6,  kernel_size=5, stride=1, padding=2),\n",
    "                        nn.ReLU(inplace=True),\n",
    "                        nn.MaxPool2d(kernel_size=2,stride=2),\n",
    "                        nn.Conv2d(in_channels=6, out_channels=16, kernel_size=5, stride=1, padding=0),\n",
    "                        nn.ReLU(inplace=True),\n",
    "                        nn.MaxPool2d(kernel_size=2,stride=2),\n",
    "                        nn.Flatten(),\n",
    "                        nn.Linear(in_features=400, out_features=120),\n",
    "                        nn.ReLU(inplace=True),\n",
    "                        nn.Linear(in_features=120, out_features=84),\n",
    "                        nn.ReLU(inplace=True),\n",
    "                        nn.Linear(in_features=84,  out_features=10)\n",
    "                     )\n",
    "    def forward(self,x):\n",
    "        return self.lenet(x)"
   ]
  },
  {
   "cell_type": "code",
   "execution_count": 98,
   "metadata": {},
   "outputs": [],
   "source": [
    "def loss_function(pred, y):\n",
    "    return F.cross_entropy(pred, y)"
   ]
  },
  {
   "cell_type": "code",
   "execution_count": 99,
   "metadata": {},
   "outputs": [
    {
     "name": "stdout",
     "output_type": "stream",
     "text": [
      "Iteration 0, loss = 2.29\n",
      "Iteration 100, loss = 0.56\n",
      "Iteration 200, loss = 0.39\n",
      "Iteration 300, loss = 0.14\n",
      "Iteration 400, loss = 0.19\n",
      "Iteration 500, loss = 0.09\n",
      "Iteration 600, loss = 0.14\n",
      "Iteration 700, loss = 0.15\n",
      "Iteration 800, loss = 0.04\n",
      "Iteration 900, loss = 0.05\n",
      "Iteration 1000, loss = 0.03\n",
      "Iteration 1100, loss = 0.06\n",
      "Iteration 1200, loss = 0.16\n",
      "Iteration 1300, loss = 0.03\n",
      "Iteration 1400, loss = 0.13\n",
      "Iteration 1500, loss = 0.13\n",
      "Iteration 1600, loss = 0.13\n",
      "Iteration 1700, loss = 0.12\n",
      "Iteration 1800, loss = 0.02\n",
      "Iteration 1900, loss = 0.13\n",
      "Iteration 2000, loss = 0.05\n",
      "Iteration 2100, loss = 0.05\n",
      "Iteration 2200, loss = 0.14\n",
      "Iteration 2300, loss = 0.07\n",
      "Iteration 2400, loss = 0.01\n",
      "Iteration 2500, loss = 0.01\n",
      "Iteration 2600, loss = 0.03\n",
      "Iteration 2700, loss = 0.10\n",
      "Iteration 2800, loss = 0.01\n",
      "Iteration 2900, loss = 0.22\n"
     ]
    }
   ],
   "source": [
    "lenet = LeNet5()\n",
    "lenet = lenet.to(device=device)\n",
    "\n",
    "optimizer = optim.Adam(lenet.parameters(), lr=LEARNING_RATE)\n",
    "\n",
    "training_loss = []\n",
    "\n",
    "# Start training\n",
    "lenet.train()\n",
    "for epoch in range(EPOCHS):\n",
    "    for i, (x,y) in enumerate(train_loader): \n",
    "        x = x.to(device=device, dtype=torch.float32)  # Use GPU\n",
    "        y = y.to(device=device, dtype=torch.long)     #  if applicable\n",
    "        \n",
    "        # Forward pass through the network\n",
    "        scores = lenet(x) \n",
    "        # Compute the loss of the predictions\n",
    "        loss = loss_function(scores, y)\n",
    "        \n",
    "        # Set the gradients to zero\n",
    "        optimizer.zero_grad()\n",
    "        \n",
    "        # Compute the gradients of the loss with respect to the weights\n",
    "        loss.backward()\n",
    "        \n",
    "        # Update the weights of the model (Back-propagation)\n",
    "        optimizer.step()\n",
    "        \n",
    "        if i % 100 == 0:\n",
    "            print('Iteration {}, loss = {:.2f}'.format(epoch*1000 + i, loss.item()))\n",
    "            training_loss.append(loss.item())"
   ]
  },
  {
   "cell_type": "code",
   "execution_count": 100,
   "metadata": {},
   "outputs": [
    {
     "data": {
      "image/png": "[encoded data removed]",
      "text/plain": [
       "<Figure size 432x288 with 1 Axes>"
      ]
     },
     "metadata": {
      "needs_background": "light"
     },
     "output_type": "display_data"
    }
   ],
   "source": [
    "# Plot the training loss\n",
    "plt.plot(training_loss)\n",
    "plt.xlabel('Iteration')\n",
    "plt.ylabel('Loss')\n",
    "plt.show()"
   ]
  },
  {
   "cell_type": "code",
   "execution_count": 101,
   "metadata": {},
   "outputs": [
    {
     "name": "stdout",
     "output_type": "stream",
     "text": [
      "Correct predictions: 9853 / 10000, with accuracy = (98.53)\n"
     ]
    }
   ],
   "source": [
    "# Evaluate the model\n",
    "lenet.eval()\n",
    "\n",
    "num_correct = 0\n",
    "num_samples = 0\n",
    "lenet.eval()  # set model to evaluation mode\n",
    "with torch.no_grad():\n",
    "    for x, y in test_loader:\n",
    "        x = x.to(device=device, dtype=torch.float32)  # Use GPU\n",
    "        y = y.to(device=device, dtype=torch.long)     #  if applicable\n",
    "        \n",
    "        scores = lenet(x)\n",
    "        \n",
    "        _, preds = scores.max(1)\n",
    "        \n",
    "        num_correct += (preds == y).sum()\n",
    "        num_samples += preds.size(0)\n",
    "        \n",
    "    accuracy = float(num_correct) / num_samples\n",
    "    print('Correct predictions: %d / %d, with accuracy = (%.2f)' % (num_correct, num_samples, 100 * accuracy))"
   ]
  },
  {
   "cell_type": "code",
   "execution_count": null,
   "metadata": {},
   "outputs": [],
   "source": [
    "# Save weights if desired\n",
    "torch.save(lenet.state_dict(), 'model.pt')"
   ]
  },
  {
   "cell_type": "code",
   "execution_count": null,
   "metadata": {},
   "outputs": [],
   "source": []
  }
 ],
 "metadata": {
  "kernelspec": {
   "display_name": "Python 3",
   "language": "python",
   "name": "python3"
  },
  "language_info": {
   "codemirror_mode": {
    "name": "ipython",
    "version": 3
   },
   "file_extension": ".py",
   "mimetype": "text/x-python",
   "name": "python",
   "nbconvert_exporter": "python",
   "pygments_lexer": "ipython3",
   "version": "3.7.7"
  }
 },
 "nbformat": 4,
 "nbformat_minor": 4
}
