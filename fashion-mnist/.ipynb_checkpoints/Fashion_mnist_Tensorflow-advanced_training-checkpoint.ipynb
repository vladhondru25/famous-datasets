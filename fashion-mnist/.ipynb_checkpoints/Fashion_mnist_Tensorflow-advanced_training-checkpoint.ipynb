{
 "cells": [
  {
   "cell_type": "code",
   "execution_count": 1,
   "metadata": {
    "id": "biDAmkwHmQ8H"
   },
   "outputs": [],
   "source": [
    "import math\n",
    "import numpy as np\n",
    "import tensorflow as tf\n",
    "import tensorflow.keras.layers as kl\n",
    "import matplotlib.pyplot as plt"
   ]
  },
  {
   "cell_type": "code",
   "execution_count": 2,
   "metadata": {
    "id": "ZIDY2fW1mQ8H"
   },
   "outputs": [],
   "source": [
    "# Issue. Check https://github.com/dmlc/xgboost/issues/1715\n",
    "# import os\n",
    "# os.environ['KMP_DUPLICATE_LIB_OK']='True'"
   ]
  },
  {
   "cell_type": "code",
   "execution_count": 3,
   "metadata": {
    "colab": {
     "base_uri": "https://localhost:8080/"
    },
    "id": "s02JNxk6mTGL",
    "outputId": "271451c4-0ba2-4578-f217-992e72cfd8f0"
   },
   "outputs": [
    {
     "name": "stdout",
     "output_type": "stream",
     "text": [
      "Num GPUs Available:  1\n"
     ]
    }
   ],
   "source": [
    "print(\"Num GPUs Available: \", len(tf.config.experimental.list_physical_devices('GPU')))"
   ]
  },
  {
   "cell_type": "code",
   "execution_count": 4,
   "metadata": {
    "id": "49hUDN-NmQ8H"
   },
   "outputs": [],
   "source": [
    "# Constants and hyper-parameters\n",
    "EPOCHS = 15\n",
    "BATCH_SIZE = 64\n",
    "VALID_SIZE = 10 #In percentage out of training set\n",
    "CLASSES = 10\n",
    "CLASS_NAMES = ['T-shirt/top', 'Trouser', 'Pullover', 'Dress', 'Coat', 'Sandal', 'Shirt', 'Sneaker', 'Bag', 'Ankle boot']"
   ]
  },
  {
   "cell_type": "code",
   "execution_count": 5,
   "metadata": {
    "colab": {
     "base_uri": "https://localhost:8080/"
    },
    "id": "pt7kV0qEmQ8H",
    "outputId": "4bba8e85-d48e-461c-80f3-fa4f4527bbe4"
   },
   "outputs": [
    {
     "name": "stdout",
     "output_type": "stream",
     "text": [
      "Downloading data from https://storage.googleapis.com/tensorflow/tf-keras-datasets/train-labels-idx1-ubyte.gz\n",
      "32768/29515 [=================================] - 0s 0us/step\n",
      "Downloading data from https://storage.googleapis.com/tensorflow/tf-keras-datasets/train-images-idx3-ubyte.gz\n",
      "26427392/26421880 [==============================] - 2s 0us/step\n",
      "Downloading data from https://storage.googleapis.com/tensorflow/tf-keras-datasets/t10k-labels-idx1-ubyte.gz\n",
      "8192/5148 [===============================================] - 0s 0us/step\n",
      "Downloading data from https://storage.googleapis.com/tensorflow/tf-keras-datasets/t10k-images-idx3-ubyte.gz\n",
      "4423680/4422102 [==============================] - 0s 0us/step\n"
     ]
    }
   ],
   "source": [
    "train_data, (x_test, y_test) = tf.keras.datasets.fashion_mnist.load_data()\n",
    "\n",
    "split_point = math.floor((100-VALID_SIZE)*len(train_data[0])/100)\n",
    "x_train, y_train = train_data[0][:split_point], train_data[1][:split_point]\n",
    "x_valid, y_valid = train_data[0][split_point:], train_data[1][split_point:]\n",
    "\n",
    "x_train = x_train / 255.0\n",
    "x_valid = x_valid / 255.0\n",
    "x_test  = x_test  / 255.0\n",
    "\n",
    "# Add a channels dimension\n",
    "x_train = x_train[..., tf.newaxis].astype(\"float32\")\n",
    "x_valid = x_valid[..., tf.newaxis].astype(\"float32\")\n",
    "x_test  = x_test[...,  tf.newaxis].astype(\"float32\")"
   ]
  },
  {
   "cell_type": "code",
   "execution_count": 6,
   "metadata": {
    "id": "NPDTPM5ImQ8H"
   },
   "outputs": [],
   "source": [
    "class FModel(tf.keras.Model):\n",
    "    def __init__(self):\n",
    "        super(FModel, self).__init__()\n",
    "        \n",
    "        self.network = tf.keras.Sequential([\n",
    "            kl.Conv2D(filters=6, kernel_size=5, strides=1, padding='same', use_bias=False),\n",
    "            kl.BatchNormalization(axis=-1),\n",
    "            kl.Dropout(rate=0.1),\n",
    "            kl.ReLU(),\n",
    "            kl.MaxPool2D(pool_size=2, strides=2, padding='valid'),\n",
    "            \n",
    "            kl.Conv2D(filters=16, kernel_size=5, strides=1, padding='valid', use_bias=False),\n",
    "            kl.BatchNormalization(axis=-1),\n",
    "            kl.Dropout(rate=0.1),\n",
    "            kl.ReLU(),\n",
    "            kl.MaxPool2D(pool_size=2, strides=2, padding='valid'),\n",
    "            \n",
    "            kl.Flatten(),\n",
    "            \n",
    "            kl.Dense(120, activation=None, use_bias=True),\n",
    "            kl.Dropout(rate=0.1),\n",
    "            kl.ReLU(),\n",
    "            \n",
    "            kl.Dense(84, activation=None, use_bias=True),\n",
    "            kl.Dropout(rate=0.1),\n",
    "            kl.ReLU(),\n",
    "            \n",
    "            kl.Dense(CLASSES, activation=None, use_bias=True)\n",
    "        ])\n",
    "        \n",
    "    def call(self, x):\n",
    "        return self.network(x)"
   ]
  },
  {
   "cell_type": "code",
   "execution_count": 7,
   "metadata": {
    "colab": {
     "base_uri": "https://localhost:8080/",
     "height": 789
    },
    "id": "NoAqh71ymQ8H",
    "outputId": "8f792968-c62a-483c-9584-c947caa8e825"
   },
   "outputs": [
    {
     "name": "stdout",
     "output_type": "stream",
     "text": [
      "Epoch 1/15\n",
      "844/844 - 2s - loss: 0.5189 - accuracy: 0.8126 - val_loss: 0.3786 - val_accuracy: 0.8642\n",
      "Epoch 2/15\n",
      "844/844 - 2s - loss: 0.3554 - accuracy: 0.8717 - val_loss: 0.3407 - val_accuracy: 0.8817\n",
      "Epoch 3/15\n",
      "844/844 - 2s - loss: 0.3173 - accuracy: 0.8839 - val_loss: 0.3147 - val_accuracy: 0.8832\n",
      "Epoch 4/15\n",
      "844/844 - 2s - loss: 0.2948 - accuracy: 0.8919 - val_loss: 0.3244 - val_accuracy: 0.8773\n",
      "Epoch 5/15\n",
      "844/844 - 2s - loss: 0.2776 - accuracy: 0.8967 - val_loss: 0.2761 - val_accuracy: 0.8995\n",
      "Epoch 6/15\n",
      "844/844 - 2s - loss: 0.2641 - accuracy: 0.9028 - val_loss: 0.2751 - val_accuracy: 0.8995\n",
      "Epoch 7/15\n",
      "844/844 - 2s - loss: 0.2511 - accuracy: 0.9073 - val_loss: 0.2694 - val_accuracy: 0.8983\n",
      "Epoch 8/15\n",
      "844/844 - 2s - loss: 0.2413 - accuracy: 0.9105 - val_loss: 0.2565 - val_accuracy: 0.9042\n",
      "Epoch 9/15\n",
      "844/844 - 2s - loss: 0.2340 - accuracy: 0.9124 - val_loss: 0.2538 - val_accuracy: 0.9043\n",
      "Epoch 10/15\n",
      "844/844 - 2s - loss: 0.2243 - accuracy: 0.9169 - val_loss: 0.2977 - val_accuracy: 0.8875\n",
      "Epoch 11/15\n",
      "844/844 - 2s - loss: 0.2219 - accuracy: 0.9174 - val_loss: 0.2599 - val_accuracy: 0.9050\n",
      "Epoch 12/15\n",
      "844/844 - 2s - loss: 0.2158 - accuracy: 0.9199 - val_loss: 0.2707 - val_accuracy: 0.8970\n",
      "Epoch 13/15\n",
      "844/844 - 2s - loss: 0.2071 - accuracy: 0.9231 - val_loss: 0.2809 - val_accuracy: 0.8952\n",
      "Epoch 14/15\n",
      "844/844 - 2s - loss: 0.2025 - accuracy: 0.9238 - val_loss: 0.2612 - val_accuracy: 0.9018\n",
      "Epoch 15/15\n",
      "844/844 - 2s - loss: 0.1984 - accuracy: 0.9247 - val_loss: 0.2521 - val_accuracy: 0.9090\n"
     ]
    },
    {
     "data": {
      "image/png": "[encoded data removed]",
      "text/plain": [
       "<Figure size 432x288 with 1 Axes>"
      ]
     },
     "metadata": {
      "needs_background": "light",
      "tags": []
     },
     "output_type": "display_data"
    }
   ],
   "source": [
    "fashionModel = FModel()\n",
    "\n",
    "loss_function = tf.keras.losses.SparseCategoricalCrossentropy(from_logits=True)\n",
    "\n",
    "fashionModel.compile(optimizer='adam', loss=loss_function, metrics=['accuracy'])\n",
    "# fashionModel.fit(x=x_train, y=y_train, epochs=EPOCHS)#, shuffle=True)\n",
    "fashionModel.fit(x=x_train, y=y_train, batch_size=BATCH_SIZE, epochs=EPOCHS, verbose=2, validation_data=(x_valid,y_valid), shuffle=True)\n",
    "\n",
    "plt.figure(0)\n",
    "plt.plot(list(range(1,EPOCHS+1)), fashionModel.history.history['loss'], 'b')\n",
    "plt.plot(list(range(1,EPOCHS+1)), fashionModel.history.history['val_loss'], 'r')\n",
    "plt.xticks(list(range(1,EPOCHS+1)))\n",
    "plt.xlabel('Epoch')\n",
    "plt.ylabel('Loss')\n",
    "plt.legend(['Train loss','Validation loss'])\n",
    "plt.show()"
   ]
  },
  {
   "cell_type": "code",
   "execution_count": 8,
   "metadata": {
    "colab": {
     "base_uri": "https://localhost:8080/"
    },
    "id": "6OPhUHa1mQ8I",
    "outputId": "fa407d59-67e8-4193-a588-84577fb0e5b2"
   },
   "outputs": [
    {
     "name": "stdout",
     "output_type": "stream",
     "text": [
      "157/157 - 0s - loss: 0.2556 - accuracy: 0.9081\n"
     ]
    },
    {
     "data": {
      "text/plain": [
       "[0.25562071800231934, 0.9081000089645386]"
      ]
     },
     "execution_count": 8,
     "metadata": {
      "tags": []
     },
     "output_type": "execute_result"
    }
   ],
   "source": [
    "fashionModel.evaluate(x=x_test, y=y_test, batch_size=BATCH_SIZE, verbose=2)"
   ]
  },
  {
   "cell_type": "code",
   "execution_count": 9,
   "metadata": {
    "colab": {
     "base_uri": "https://localhost:8080/",
     "height": 366
    },
    "id": "hYkSeykImQ8I",
    "outputId": "287973b2-fcf2-47ed-d8a3-7af8bf5d5eaa"
   },
   "outputs": [
    {
     "data": {
      "image/png": "[encoded data removed]",
      "text/plain": [
       "<Figure size 1080x1080 with 10 Axes>"
      ]
     },
     "metadata": {
      "tags": []
     },
     "output_type": "display_data"
    }
   ],
   "source": [
    "plt.figure(figsize=(15,15))\n",
    "for i in range(10):\n",
    "    plt.subplot(5,5,i+1)\n",
    "    plt.xticks([])\n",
    "    plt.yticks([])\n",
    "    plt.grid(False)\n",
    "    plt.imshow(x_test[i].squeeze(-1), cmap=plt.cm.binary)\n",
    "    \n",
    "    logits = fashionModel.predict(x_test[i][np.newaxis,...])\n",
    "    pred = np.argmax(logits)\n",
    "    \n",
    "    plt.xlabel('Predicted: '+CLASS_NAMES[pred]+'\\n Actual: '+CLASS_NAMES[y_test[i]])\n",
    "plt.show()"
   ]
  }
 ],
 "metadata": {
  "accelerator": "GPU",
  "colab": {
   "name": "Fashion_mnist_Tensorflow.ipynb",
   "provenance": []
  },
  "kernelspec": {
   "display_name": "Python 3",
   "language": "python",
   "name": "python3"
  },
  "language_info": {
   "codemirror_mode": {
    "name": "ipython",
    "version": 3
   },
   "file_extension": ".py",
   "mimetype": "text/x-python",
   "name": "python",
   "nbconvert_exporter": "python",
   "pygments_lexer": "ipython3",
   "version": "3.7.9"
  }
 },
 "nbformat": 4,
 "nbformat_minor": 0
}
