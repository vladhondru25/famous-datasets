{
 "cells": [
  {
   "cell_type": "code",
   "execution_count": 27,
   "metadata": {
    "id": "biDAmkwHmQ8H"
   },
   "outputs": [],
   "source": [
    "import math\n",
    "import numpy as np\n",
    "import tensorflow as tf\n",
    "import tensorflow.keras.layers as kl\n",
    "import matplotlib.pyplot as plt"
   ]
  },
  {
   "cell_type": "code",
   "execution_count": 28,
   "metadata": {
    "id": "ZIDY2fW1mQ8H"
   },
   "outputs": [],
   "source": [
    "# Issue. Check https://github.com/dmlc/xgboost/issues/1715\n",
    "import os\n",
    "os.environ['KMP_DUPLICATE_LIB_OK']='True'"
   ]
  },
  {
   "cell_type": "code",
   "execution_count": 29,
   "metadata": {
    "colab": {
     "base_uri": "https://localhost:8080/"
    },
    "id": "s02JNxk6mTGL",
    "outputId": "271451c4-0ba2-4578-f217-992e72cfd8f0"
   },
   "outputs": [
    {
     "name": "stdout",
     "output_type": "stream",
     "text": [
      "Num GPUs Available:  0\n"
     ]
    }
   ],
   "source": [
    "print(\"Num GPUs Available: \", len(tf.config.experimental.list_physical_devices('GPU')))"
   ]
  },
  {
   "cell_type": "code",
   "execution_count": 30,
   "metadata": {
    "id": "49hUDN-NmQ8H"
   },
   "outputs": [],
   "source": [
    "# Constants and hyper-parameters\n",
    "EPOCHS = 15\n",
    "BUFFER_SIZE = 10000\n",
    "BATCH_SIZE = 64\n",
    "VALID_SIZE = 10 #In percentage out of training set\n",
    "CLASSES = 10\n",
    "CLASS_NAMES = ['T-shirt/top', 'Trouser', 'Pullover', 'Dress', 'Coat', 'Sandal', 'Shirt', 'Sneaker', 'Bag', 'Ankle boot']"
   ]
  },
  {
   "cell_type": "code",
   "execution_count": 31,
   "metadata": {
    "colab": {
     "base_uri": "https://localhost:8080/"
    },
    "id": "pt7kV0qEmQ8H",
    "outputId": "4bba8e85-d48e-461c-80f3-fa4f4527bbe4"
   },
   "outputs": [],
   "source": [
    "train_data, (x_test, y_test) = tf.keras.datasets.fashion_mnist.load_data()\n",
    "\n",
    "split_point = math.floor((100-VALID_SIZE)*len(train_data[0])/100)\n",
    "x_train, y_train = train_data[0][:split_point], train_data[1][:split_point]\n",
    "x_valid, y_valid = train_data[0][split_point:], train_data[1][split_point:]\n",
    "\n",
    "x_train = x_train / 255.0\n",
    "x_valid = x_valid / 255.0\n",
    "x_test  = x_test  / 255.0\n",
    "\n",
    "# Add a channels dimension\n",
    "x_train = x_train[..., tf.newaxis].astype(\"float32\")\n",
    "x_valid = x_valid[..., tf.newaxis].astype(\"float32\")\n",
    "x_test  = x_test[...,  tf.newaxis].astype(\"float32\")\n",
    "\n",
    "train_ds = tf.data.Dataset.from_tensor_slices((x_train, y_train)).shuffle(BUFFER_SIZE).batch(BATCH_SIZE)"
   ]
  },
  {
   "cell_type": "code",
   "execution_count": 32,
   "metadata": {
    "id": "NPDTPM5ImQ8H"
   },
   "outputs": [],
   "source": [
    "class FModel(tf.keras.Model):\n",
    "    def __init__(self):\n",
    "        super(FModel, self).__init__()\n",
    "        \n",
    "        self.network = tf.keras.Sequential([\n",
    "            kl.Conv2D(filters=6, kernel_size=5, strides=1, padding='same', use_bias=False),\n",
    "            kl.BatchNormalization(axis=-1),\n",
    "            kl.Dropout(rate=0.1),\n",
    "            kl.ReLU(),\n",
    "            kl.MaxPool2D(pool_size=2, strides=2, padding='valid'),\n",
    "            \n",
    "            kl.Conv2D(filters=16, kernel_size=5, strides=1, padding='valid', use_bias=False),\n",
    "            kl.BatchNormalization(axis=-1),\n",
    "            kl.Dropout(rate=0.1),\n",
    "            kl.ReLU(),\n",
    "            kl.MaxPool2D(pool_size=2, strides=2, padding='valid'),\n",
    "            \n",
    "            kl.Flatten(),\n",
    "            \n",
    "            kl.Dense(120, activation=None, use_bias=True),\n",
    "            kl.Dropout(rate=0.1),\n",
    "            kl.ReLU(),\n",
    "            \n",
    "            kl.Dense(84, activation=None, use_bias=True),\n",
    "            kl.Dropout(rate=0.1),\n",
    "            kl.ReLU(),\n",
    "            \n",
    "            kl.Dense(CLASSES, activation=None, use_bias=True)\n",
    "        ])\n",
    "        \n",
    "    def call(self, x):\n",
    "        return self.network(x)"
   ]
  },
  {
   "cell_type": "code",
   "execution_count": 33,
   "metadata": {
    "colab": {
     "base_uri": "https://localhost:8080/",
     "height": 789
    },
    "id": "NoAqh71ymQ8H",
    "outputId": "8f792968-c62a-483c-9584-c947caa8e825"
   },
   "outputs": [],
   "source": [
    "fashionModel = FModel()\n",
    "\n",
    "optimizer = tf.keras.optimizers.Adam()\n",
    "loss_function = tf.keras.losses.SparseCategoricalCrossentropy(from_logits=True)\n",
    "\n",
    "train_loss = tf.keras.metrics.Mean(name='train_loss')\n",
    "valid_loss = tf.keras.metrics.Mean(name='valid_loss')\n",
    "\n",
    "test_loss = tf.keras.metrics.Mean(name='test_loss')\n",
    "test_accuracy = tf.keras.metrics.SparseCategoricalAccuracy(name='test_accuracy')\n",
    "\n",
    "training_losses = []\n",
    "validation_losses = []\n",
    "\n",
    "@tf.function\n",
    "def train_step(images, labels):\n",
    "    with tf.GradientTape() as tape:\n",
    "        predictions = fashionModel(images, training=True)\n",
    "        loss = loss_function(labels, predictions)\n",
    "    gradients = tape.gradient(loss, fashionModel.trainable_variables)\n",
    "    optimizer.apply_gradients(zip(gradients, fashionModel.trainable_variables))\n",
    "\n",
    "    train_loss(loss)\n",
    "    \n",
    "@tf.function\n",
    "def evaluate_step(images, labels, loss_object, accuracy_object=None):\n",
    "    predictions = fashionModel(images, training=False)\n",
    "    loss = loss_function(labels, predictions)\n",
    "\n",
    "    loss_object(loss)\n",
    "    if accuracy_object:\n",
    "        accuracy_object(labels, predictions)"
   ]
  },
  {
   "cell_type": "code",
   "execution_count": 34,
   "metadata": {},
   "outputs": [
    {
     "name": "stdout",
     "output_type": "stream",
     "text": [
      "Epoch 1,  Loss: 0.53,  Validation Loss: 0.37.\n",
      "Epoch 2,  Loss: 0.37,  Validation Loss: 0.35.\n",
      "Epoch 3,  Loss: 0.33,  Validation Loss: 0.30.\n",
      "Epoch 4,  Loss: 0.30,  Validation Loss: 0.29.\n",
      "Epoch 5,  Loss: 0.28,  Validation Loss: 0.30.\n",
      "Epoch 6,  Loss: 0.27,  Validation Loss: 0.27.\n",
      "Epoch 7,  Loss: 0.26,  Validation Loss: 0.28.\n",
      "Epoch 8,  Loss: 0.25,  Validation Loss: 0.28.\n",
      "Epoch 9,  Loss: 0.24,  Validation Loss: 0.26.\n",
      "Epoch 10,  Loss: 0.23,  Validation Loss: 0.29.\n",
      "Epoch 11,  Loss: 0.23,  Validation Loss: 0.27.\n",
      "Epoch 12,  Loss: 0.22,  Validation Loss: 0.26.\n",
      "Epoch 13,  Loss: 0.22,  Validation Loss: 0.27.\n",
      "Epoch 14,  Loss: 0.21,  Validation Loss: 0.27.\n",
      "Epoch 15,  Loss: 0.21,  Validation Loss: 0.26.\n"
     ]
    },
    {
     "data": {
      "image/png": "[encoded data removed]",
      "text/plain": [
       "<Figure size 432x288 with 1 Axes>"
      ]
     },
     "metadata": {
      "needs_background": "light"
     },
     "output_type": "display_data"
    }
   ],
   "source": [
    "for epoch in range(EPOCHS):\n",
    "    train_loss.reset_states()\n",
    "    valid_loss.reset_states()\n",
    "\n",
    "    for images, labels in train_ds:\n",
    "        train_step(images, labels)\n",
    "        \n",
    "    evaluate_step(x_valid, y_valid, valid_loss)\n",
    "    \n",
    "    training_losses.append(train_loss.result())\n",
    "    validation_losses.append(valid_loss.result())\n",
    "\n",
    "    print('Epoch {}, '.format(epoch + 1),\n",
    "          'Loss: {:.2f}, '.format(train_loss.result()),\n",
    "          'Validation Loss: {:.2f}.'.format(valid_loss.result()))\n",
    "    \n",
    "plt.figure(0)\n",
    "plt.plot(list(range(1,EPOCHS+1)), training_losses, 'b')\n",
    "plt.plot(list(range(1,EPOCHS+1)), validation_losses, 'r')\n",
    "plt.xticks(list(range(1,EPOCHS+1)))\n",
    "plt.xlabel('Epoch')\n",
    "plt.ylabel('Loss')\n",
    "plt.legend(['Train loss','Validation loss'])\n",
    "plt.show()"
   ]
  },
  {
   "cell_type": "code",
   "execution_count": 35,
   "metadata": {
    "colab": {
     "base_uri": "https://localhost:8080/"
    },
    "id": "6OPhUHa1mQ8I",
    "outputId": "fa407d59-67e8-4193-a588-84577fb0e5b2"
   },
   "outputs": [
    {
     "name": "stdout",
     "output_type": "stream",
     "text": [
      "Test Loss: 0.26,  Test Accuracy: 90.47%.\n"
     ]
    }
   ],
   "source": [
    "test_loss.reset_states()\n",
    "test_accuracy.reset_states()\n",
    "evaluate_step(x_test, y_test, test_loss, test_accuracy)\n",
    "print('Test Loss: {:.2f}, '.format(test_loss.result()),\n",
    "      'Test Accuracy: {:.2f}%.'.format(test_accuracy.result() * 100))"
   ]
  },
  {
   "cell_type": "code",
   "execution_count": 36,
   "metadata": {
    "colab": {
     "base_uri": "https://localhost:8080/",
     "height": 366
    },
    "id": "hYkSeykImQ8I",
    "outputId": "287973b2-fcf2-47ed-d8a3-7af8bf5d5eaa"
   },
   "outputs": [
    {
     "data": {
      "image/png": "[encoded data removed]",
      "text/plain": [
       "<Figure size 1080x1080 with 10 Axes>"
      ]
     },
     "metadata": {},
     "output_type": "display_data"
    }
   ],
   "source": [
    "plt.figure(figsize=(15,15))\n",
    "for i in range(10):\n",
    "    plt.subplot(5,5,i+1)\n",
    "    plt.xticks([])\n",
    "    plt.yticks([])\n",
    "    plt.grid(False)\n",
    "    plt.imshow(x_test[i].squeeze(-1), cmap=plt.cm.binary)\n",
    "    \n",
    "    logits = fashionModel(x_test[i][np.newaxis,...], training=False)\n",
    "    pred = np.argmax(logits)\n",
    "    \n",
    "    plt.xlabel('Predicted: '+CLASS_NAMES[pred]+'\\n Actual: '+CLASS_NAMES[y_test[i]])\n",
    "plt.show()"
   ]
  },
  {
   "cell_type": "code",
   "execution_count": null,
   "metadata": {},
   "outputs": [],
   "source": []
  }
 ],
 "metadata": {
  "accelerator": "GPU",
  "colab": {
   "name": "Fashion_mnist_Tensorflow.ipynb",
   "provenance": []
  },
  "kernelspec": {
   "display_name": "Python 3",
   "language": "python",
   "name": "python3"
  },
  "language_info": {
   "codemirror_mode": {
    "name": "ipython",
    "version": 3
   },
   "file_extension": ".py",
   "mimetype": "text/x-python",
   "name": "python",
   "nbconvert_exporter": "python",
   "pygments_lexer": "ipython3",
   "version": "3.7.9"
  }
 },
 "nbformat": 4,
 "nbformat_minor": 4
}
